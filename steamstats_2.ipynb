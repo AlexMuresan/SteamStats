{
 "metadata": {
  "language_info": {
   "codemirror_mode": {
    "name": "ipython",
    "version": 3
   },
   "file_extension": ".py",
   "mimetype": "text/x-python",
   "name": "python",
   "nbconvert_exporter": "python",
   "pygments_lexer": "ipython3",
   "version": "3.8.3"
  },
  "orig_nbformat": 2,
  "kernelspec": {
   "name": "python383jvsc74a57bd0ca8a8668b6fd2f943808183740fed75ded0e8b039127ffb0acbff60bd7153c9a",
   "display_name": "Python 3.8.3 64-bit ('tehc': conda)"
  }
 },
 "nbformat": 4,
 "nbformat_minor": 2,
 "cells": [
  {
   "cell_type": "code",
   "execution_count": 2,
   "metadata": {},
   "outputs": [],
   "source": [
    "# API Refference: https://partner.steamgames.com/doc/webapi/ISteamUserStats\n",
    "\n",
    "import json\n",
    "import requests\n",
    "import pandas as pd\n",
    "import altair as alt\n",
    "import seaborn as sns\n",
    "import matplotlib.pyplot as plt"
   ]
  },
  {
   "cell_type": "code",
   "execution_count": 3,
   "metadata": {},
   "outputs": [],
   "source": [
    "def get_api_link(interface: str, method: str, version: str, **kwargs):\n",
    "    url = f'https://api.steampowered.com/{interface}/{method}/v000{version}'\n",
    "    if kwargs:\n",
    "        url += '/?'\n",
    "        for key in kwargs:\n",
    "            url += str(key) + '=' + str(kwargs[key]) + '&'\n",
    "    return url"
   ]
  },
  {
   "cell_type": "code",
   "execution_count": 4,
   "metadata": {},
   "outputs": [],
   "source": [
    "def get_ordered_numbers(r: dict, search_term: str, ignore_terms: list = None, high_to_low: bool = True, truncate_name: bool = True):\n",
    "    item_dict = {}\n",
    "\n",
    "    for item in r['playerstats']['stats']:\n",
    "        if search_term in item['name']:\n",
    "            if ignore_terms:\n",
    "                res = any(ele in item['name'] for ele in ignore_terms)\n",
    "                if not res:\n",
    "                    if truncate_name:\n",
    "                        item_dict[item['name'].split('_')[-1]] = int(item['value'])\n",
    "                    else:\n",
    "                        item_dict[item['name']] = int(item['value'])\n",
    "            else:\n",
    "                if truncate_name:\n",
    "                    item_dict[item['name'].split('_')[-1]] = int(item['value'])\n",
    "                else:\n",
    "                    item_dict[item['name']] = int(item['value'])\n",
    "\n",
    "    items_ordered = {k: v for k, v in sorted(item_dict.items(), key=lambda item: item[1], reverse=high_to_low)}\n",
    "    item_list = items_ordered.items()\n",
    "    name, number = zip(*item_list)\n",
    "\n",
    "    return name, number, items_ordered"
   ]
  },
  {
   "cell_type": "code",
   "execution_count": 5,
   "metadata": {},
   "outputs": [
    {
     "output_type": "stream",
     "name": "stdout",
     "text": [
      "https://api.steampowered.com/ISteamUserStats/GetUserStatsForGame/v0002/?key=AA1A1F692E6D48BFC0F23FB2F7313A2B&steamid=76561198020908104&appid=730&\n"
     ]
    },
    {
     "output_type": "execute_result",
     "data": {
      "text/plain": [
       "[{'name': 'total_kills', 'value': 25676},\n",
       " {'name': 'total_deaths', 'value': 24342},\n",
       " {'name': 'total_time_played', 'value': 1387053},\n",
       " {'name': 'total_planted_bombs', 'value': 481},\n",
       " {'name': 'total_defused_bombs', 'value': 166},\n",
       " {'name': 'total_wins', 'value': 7987},\n",
       " {'name': 'total_damage_done', 'value': 3714396},\n",
       " {'name': 'total_money_earned', 'value': 40604550},\n",
       " {'name': 'total_rescued_hostages', 'value': 4},\n",
       " {'name': 'total_kills_knife', 'value': 163},\n",
       " {'name': 'total_kills_hegrenade', 'value': 24},\n",
       " {'name': 'total_kills_glock', 'value': 545},\n",
       " {'name': 'total_kills_deagle', 'value': 927},\n",
       " {'name': 'total_kills_elite', 'value': 70},\n",
       " {'name': 'total_kills_fiveseven', 'value': 164},\n",
       " {'name': 'total_kills_xm1014', 'value': 312},\n",
       " {'name': 'total_kills_mac10', 'value': 233},\n",
       " {'name': 'total_kills_ump45', 'value': 437},\n",
       " {'name': 'total_kills_p90', 'value': 674},\n",
       " {'name': 'total_kills_awp', 'value': 7013},\n",
       " {'name': 'total_kills_ak47', 'value': 5310},\n",
       " {'name': 'total_kills_aug', 'value': 469},\n",
       " {'name': 'total_kills_famas', 'value': 238},\n",
       " {'name': 'total_kills_g3sg1', 'value': 169},\n",
       " {'name': 'total_kills_m249', 'value': 101},\n",
       " {'name': 'total_kills_headshot', 'value': 7231},\n",
       " {'name': 'total_kills_enemy_weapon', 'value': 2366},\n",
       " {'name': 'total_wins_pistolround', 'value': 471},\n",
       " {'name': 'total_decal_sprays', 'value': 31},\n",
       " {'name': 'total_wins_map_cs_assault', 'value': 11},\n",
       " {'name': 'total_wins_map_cs_italy', 'value': 9},\n",
       " {'name': 'total_wins_map_cs_office', 'value': 17},\n",
       " {'name': 'total_wins_map_de_aztec', 'value': 10},\n",
       " {'name': 'total_wins_map_de_cbble', 'value': 113},\n",
       " {'name': 'total_wins_map_de_dust2', 'value': 3951},\n",
       " {'name': 'total_wins_map_de_dust', 'value': 8},\n",
       " {'name': 'total_wins_map_de_inferno', 'value': 843},\n",
       " {'name': 'total_wins_map_de_nuke', 'value': 318},\n",
       " {'name': 'total_wins_map_de_train', 'value': 41},\n",
       " {'name': 'total_weapons_donated', 'value': 1972},\n",
       " {'name': 'total_broken_windows', 'value': 77},\n",
       " {'name': 'total_kills_enemy_blinded', 'value': 398},\n",
       " {'name': 'total_kills_knife_fight', 'value': 51},\n",
       " {'name': 'total_kills_against_zoomed_sniper', 'value': 3001},\n",
       " {'name': 'total_dominations', 'value': 485},\n",
       " {'name': 'total_domination_overkills', 'value': 433},\n",
       " {'name': 'total_revenges', 'value': 331},\n",
       " {'name': 'total_shots_hit', 'value': 85728},\n",
       " {'name': 'total_shots_fired', 'value': 373560},\n",
       " {'name': 'total_rounds_played', 'value': 15717},\n",
       " {'name': 'total_shots_deagle', 'value': 8247},\n",
       " {'name': 'total_shots_glock', 'value': 13843},\n",
       " {'name': 'total_shots_elite', 'value': 1377},\n",
       " {'name': 'total_shots_fiveseven', 'value': 3223},\n",
       " {'name': 'total_shots_awp', 'value': 19862},\n",
       " {'name': 'total_shots_ak47', 'value': 90494},\n",
       " {'name': 'total_shots_aug', 'value': 7512},\n",
       " {'name': 'total_shots_famas', 'value': 6473},\n",
       " {'name': 'total_shots_g3sg1', 'value': 1174},\n",
       " {'name': 'total_shots_p90', 'value': 19641},\n",
       " {'name': 'total_shots_mac10', 'value': 7101},\n",
       " {'name': 'total_shots_ump45', 'value': 11098},\n",
       " {'name': 'total_shots_xm1014', 'value': 10412},\n",
       " {'name': 'total_shots_m249', 'value': 2383},\n",
       " {'name': 'total_hits_deagle', 'value': 2223},\n",
       " {'name': 'total_hits_glock', 'value': 3335},\n",
       " {'name': 'total_hits_elite', 'value': 368},\n",
       " {'name': 'total_hits_fiveseven', 'value': 733},\n",
       " {'name': 'total_hits_awp', 'value': 7887},\n",
       " {'name': 'total_hits_ak47', 'value': 18889},\n",
       " {'name': 'total_hits_aug', 'value': 1832},\n",
       " {'name': 'total_hits_famas', 'value': 1226},\n",
       " {'name': 'total_hits_g3sg1', 'value': 315},\n",
       " {'name': 'total_hits_p90', 'value': 4025},\n",
       " {'name': 'total_hits_mac10', 'value': 1566},\n",
       " {'name': 'total_hits_ump45', 'value': 2385},\n",
       " {'name': 'total_hits_xm1014', 'value': 2496},\n",
       " {'name': 'total_hits_m249', 'value': 390},\n",
       " {'name': 'total_rounds_map_cs_assault', 'value': 28},\n",
       " {'name': 'total_rounds_map_cs_italy', 'value': 23},\n",
       " {'name': 'total_rounds_map_cs_office', 'value': 29},\n",
       " {'name': 'total_rounds_map_de_aztec', 'value': 14},\n",
       " {'name': 'total_rounds_map_de_cbble', 'value': 233},\n",
       " {'name': 'total_rounds_map_de_dust2', 'value': 7591},\n",
       " {'name': 'total_rounds_map_de_dust', 'value': 17},\n",
       " {'name': 'total_rounds_map_de_inferno', 'value': 1792},\n",
       " {'name': 'total_rounds_map_de_nuke', 'value': 594},\n",
       " {'name': 'total_rounds_map_de_train', 'value': 88},\n",
       " {'name': 'last_match_t_wins', 'value': 1},\n",
       " {'name': 'last_match_ct_wins', 'value': 0},\n",
       " {'name': 'last_match_wins', 'value': 1},\n",
       " {'name': 'last_match_max_players', 'value': 10},\n",
       " {'name': 'last_match_kills', 'value': 45},\n",
       " {'name': 'last_match_deaths', 'value': 13},\n",
       " {'name': 'last_match_mvps', 'value': 1},\n",
       " {'name': 'last_match_favweapon_id', 'value': 9},\n",
       " {'name': 'last_match_favweapon_shots', 'value': 53},\n",
       " {'name': 'last_match_favweapon_hits', 'value': 38},\n",
       " {'name': 'last_match_favweapon_kills', 'value': 35},\n",
       " {'name': 'last_match_damage', 'value': 5660},\n",
       " {'name': 'last_match_money_spent', 'value': 66500},\n",
       " {'name': 'last_match_dominations', 'value': 4},\n",
       " {'name': 'last_match_revenges', 'value': 0},\n",
       " {'name': 'total_mvps', 'value': 1818},\n",
       " {'name': 'total_rounds_map_de_lake', 'value': 111},\n",
       " {'name': 'total_rounds_map_de_safehouse', 'value': 45},\n",
       " {'name': 'total_rounds_map_de_sugarcane', 'value': 19},\n",
       " {'name': 'total_rounds_map_de_stmarc', 'value': 54},\n",
       " {'name': 'total_rounds_map_de_bank', 'value': 59},\n",
       " {'name': 'total_rounds_map_de_shorttrain', 'value': 16},\n",
       " {'name': 'total_TR_planted_bombs', 'value': 8},\n",
       " {'name': 'total_TR_defused_bombs', 'value': 5},\n",
       " {'name': 'total_gun_game_rounds_won', 'value': 352},\n",
       " {'name': 'total_gun_game_rounds_played', 'value': 706},\n",
       " {'name': 'total_wins_map_de_house', 'value': 5},\n",
       " {'name': 'total_wins_map_de_bank', 'value': 29},\n",
       " {'name': 'total_wins_map_de_vertigo', 'value': 59},\n",
       " {'name': 'total_wins_map_ar_monastery', 'value': 8},\n",
       " {'name': 'total_rounds_map_ar_shoots', 'value': 28},\n",
       " {'name': 'total_rounds_map_ar_baggage', 'value': 9},\n",
       " {'name': 'total_wins_map_ar_shoots', 'value': 17},\n",
       " {'name': 'total_wins_map_ar_baggage', 'value': 4},\n",
       " {'name': 'total_wins_map_de_lake', 'value': 70},\n",
       " {'name': 'total_wins_map_de_sugarcane', 'value': 8},\n",
       " {'name': 'total_wins_map_de_stmarc', 'value': 39},\n",
       " {'name': 'total_matches_won_bank', 'value': 3},\n",
       " {'name': 'total_wins_map_de_shorttrain', 'value': 5},\n",
       " {'name': 'total_wins_map_de_safehouse', 'value': 27},\n",
       " {'name': 'total_matches_won', 'value': 418},\n",
       " {'name': 'total_matches_played', 'value': 1308},\n",
       " {'name': 'total_gg_matches_won', 'value': 28},\n",
       " {'name': 'total_gg_matches_played', 'value': 581},\n",
       " {'name': 'total_progressive_matches_won', 'value': 52},\n",
       " {'name': 'total_trbomb_matches_won', 'value': 13},\n",
       " {'name': 'total_contribution_score', 'value': 122238},\n",
       " {'name': 'last_match_contribution_score', 'value': 483},\n",
       " {'name': 'last_match_rounds', 'value': 1},\n",
       " {'name': 'total_kills_hkp2000', 'value': 1009},\n",
       " {'name': 'total_shots_hkp2000', 'value': 17886},\n",
       " {'name': 'total_hits_hkp2000', 'value': 4502},\n",
       " {'name': 'total_hits_p250', 'value': 3064},\n",
       " {'name': 'total_kills_p250', 'value': 733},\n",
       " {'name': 'total_shots_p250', 'value': 12662},\n",
       " {'name': 'total_kills_sg556', 'value': 890},\n",
       " {'name': 'total_shots_sg556', 'value': 13165},\n",
       " {'name': 'total_hits_sg556', 'value': 3125},\n",
       " {'name': 'total_hits_scar20', 'value': 310},\n",
       " {'name': 'total_kills_scar20', 'value': 166},\n",
       " {'name': 'total_shots_scar20', 'value': 1052},\n",
       " {'name': 'total_shots_ssg08', 'value': 3966},\n",
       " {'name': 'total_hits_ssg08', 'value': 1409},\n",
       " {'name': 'total_kills_ssg08', 'value': 651},\n",
       " {'name': 'total_shots_mp7', 'value': 6272},\n",
       " {'name': 'total_hits_mp7', 'value': 1724},\n",
       " {'name': 'total_kills_mp7', 'value': 263},\n",
       " {'name': 'total_kills_mp9', 'value': 186},\n",
       " {'name': 'total_shots_mp9', 'value': 6376},\n",
       " {'name': 'total_hits_mp9', 'value': 1376},\n",
       " {'name': 'total_hits_nova', 'value': 1754},\n",
       " {'name': 'total_kills_nova', 'value': 194},\n",
       " {'name': 'total_shots_nova', 'value': 8459},\n",
       " {'name': 'total_hits_negev', 'value': 914},\n",
       " {'name': 'total_kills_negev', 'value': 207},\n",
       " {'name': 'total_shots_negev', 'value': 10331},\n",
       " {'name': 'total_shots_sawedoff', 'value': 4818},\n",
       " {'name': 'total_hits_sawedoff', 'value': 852},\n",
       " {'name': 'total_kills_sawedoff', 'value': 113},\n",
       " {'name': 'total_shots_bizon', 'value': 8057},\n",
       " {'name': 'total_hits_bizon', 'value': 1920},\n",
       " {'name': 'total_kills_bizon', 'value': 252},\n",
       " {'name': 'total_kills_tec9', 'value': 245},\n",
       " {'name': 'total_shots_tec9', 'value': 4092},\n",
       " {'name': 'total_hits_tec9', 'value': 910},\n",
       " {'name': 'total_shots_mag7', 'value': 4273},\n",
       " {'name': 'total_hits_mag7', 'value': 908},\n",
       " {'name': 'total_kills_mag7', 'value': 105},\n",
       " {'name': 'total_gun_game_contribution_score', 'value': 4052},\n",
       " {'name': 'last_match_gg_contribution_score', 'value': 0},\n",
       " {'name': 'total_kills_m4a1', 'value': 3411},\n",
       " {'name': 'total_kills_galilar', 'value': 394},\n",
       " {'name': 'total_kills_molotov', 'value': 6},\n",
       " {'name': 'total_kills_taser', 'value': 2},\n",
       " {'name': 'total_shots_m4a1', 'value': 60388},\n",
       " {'name': 'total_shots_galilar', 'value': 8795},\n",
       " {'name': 'total_shots_taser', 'value': 128},\n",
       " {'name': 'total_hits_m4a1', 'value': 14246},\n",
       " {'name': 'total_hits_galilar', 'value': 1719},\n",
       " {'name': 'total_rounds_map_ar_monastery', 'value': 16},\n",
       " {'name': 'total_matches_won_train', 'value': 1},\n",
       " {'name': 'total_rounds_map_de_vertigo', 'value': 109},\n",
       " {'name': 'total_matches_won_shoots', 'value': 17},\n",
       " {'name': 'total_matches_won_baggage', 'value': 4},\n",
       " {'name': 'total_matches_won_lake', 'value': 14},\n",
       " {'name': 'total_matches_won_stmarc', 'value': 9},\n",
       " {'name': 'total_matches_won_safehouse', 'value': 9},\n",
       " {'name': 'GI.lesson.csgo_instr_explain_buymenu', 'value': 16},\n",
       " {'name': 'GI.lesson.csgo_instr_explain_buyarmor', 'value': 16},\n",
       " {'name': 'GI.lesson.csgo_instr_explain_plant_bomb', 'value': 16},\n",
       " {'name': 'GI.lesson.csgo_instr_explain_bomb_carrier', 'value': 1},\n",
       " {'name': 'GI.lesson.bomb_sites_A', 'value': 1},\n",
       " {'name': 'GI.lesson.defuse_planted_bomb', 'value': 1},\n",
       " {'name': 'GI.lesson.csgo_instr_explain_follow_bomber', 'value': 1},\n",
       " {'name': 'GI.lesson.csgo_instr_explain_pickup_bomb', 'value': 1},\n",
       " {'name': 'GI.lesson.csgo_instr_explain_prevent_bomb_pickup', 'value': 1},\n",
       " {'name': 'GI.lesson.Csgo_cycle_weapons_kb', 'value': 16},\n",
       " {'name': 'GI.lesson.csgo_instr_explain_zoom', 'value': 16},\n",
       " {'name': 'GI.lesson.csgo_instr_explain_silencer', 'value': 16},\n",
       " {'name': 'GI.lesson.csgo_instr_explain_reload', 'value': 17},\n",
       " {'name': 'GI.lesson.tr_explain_plant_bomb', 'value': 16},\n",
       " {'name': 'GI.lesson.bomb_sites_B', 'value': 1},\n",
       " {'name': 'GI.lesson.version_number', 'value': 16},\n",
       " {'name': 'GI.lesson.Csgo_cycle_weapons_gp', 'value': 0},\n",
       " {'name': 'GI.lesson.find_planted_bomb', 'value': 1},\n",
       " {'name': 'GI.lesson.csgo_hostage_lead_to_hrz', 'value': 0},\n",
       " {'name': 'GI.lesson.csgo_instr_rescue_zone', 'value': 1},\n",
       " {'name': 'GI.lesson.csgo_switch_to_items_gp', 'value': 0},\n",
       " {'name': 'total_wins_map_cs_militia', 'value': 2},\n",
       " {'name': 'total_rounds_map_cs_militia', 'value': 5},\n",
       " {'name': 'GI.lesson.csgo_instr_explain_inspect', 'value': 32}]"
      ]
     },
     "metadata": {},
     "execution_count": 5
    }
   ],
   "source": [
    "steamid = '76561198020908104'\n",
    "key = 'AA1A1F692E6D48BFC0F23FB2F7313A2B'\n",
    "\n",
    "link = get_api_link('ISteamUserStats', 'GetUserStatsForGame', '2', key=key, steamid=steamid, appid='730')\n",
    "print(link)\n",
    "r = requests.get(link).json()\n",
    "\n",
    "r['playerstats']['stats']"
   ]
  },
  {
   "cell_type": "code",
   "execution_count": 6,
   "metadata": {},
   "outputs": [],
   "source": [
    "ignore_terms = ['fired', '_hit']\n",
    "ignore_terms_2 = ['headshot', 'sniper', 'enemy_weapon', 'enemy_weapon']\n",
    "\n",
    "_, _, total_shots_ordered = get_ordered_numbers(r, 'total_shots_', ignore_terms)\n",
    "_, _, total_hits_ordered = get_ordered_numbers(r, 'total_hits_')\n",
    "_, _, total_kills_ordered = get_ordered_numbers(r, 'total_kills_', ignore_terms_2)\n",
    "\n",
    "limit = 15\n",
    "\n",
    "shots_df = pd.DataFrame(list(total_shots_ordered.items())[:limit], columns=['weapon', 'shots'])\n",
    "hits_df = pd.DataFrame(list(total_hits_ordered.items())[:limit], columns=['weapon', 'hits'])\n",
    "kills_df = pd.DataFrame(list(total_kills_ordered.items())[:limit], columns=['weapon', 'kills'])\n",
    "\n",
    "combined_df = pd.merge(shots_df, hits_df, on='weapon')\n",
    "combined_df_2 = pd.merge(combined_df, kills_df, on='weapon')\n",
    "\n",
    "test_data_melted = pd.melt(combined_df, id_vars='weapon',\n",
    "                           var_name=\"source\", value_name=\"value_numbers\")\n",
    "test_data_melted_2 = pd.melt(combined_df_2, id_vars='weapon',\n",
    "                           var_name=\"source\", value_name=\"value_numbers\")"
   ]
  },
  {
   "cell_type": "code",
   "execution_count": 7,
   "metadata": {},
   "outputs": [
    {
     "output_type": "display_data",
     "data": {
      "text/plain": "<Figure size 576x360 with 1 Axes>",
      "image/svg+xml": "<?xml version=\"1.0\" encoding=\"utf-8\" standalone=\"no\"?>\n<!DOCTYPE svg PUBLIC \"-//W3C//DTD SVG 1.1//EN\"\n  \"http://www.w3.org/Graphics/SVG/1.1/DTD/svg11.dtd\">\n<!-- Created with matplotlib (https://matplotlib.org/) -->\n<svg height=\"352.15625pt\" version=\"1.1\" viewBox=\"0 0 568.2875 352.15625\" width=\"568.2875pt\" xmlns=\"http://www.w3.org/2000/svg\" xmlns:xlink=\"http://www.w3.org/1999/xlink\">\n <defs>\n  <style type=\"text/css\">\n*{stroke-linecap:butt;stroke-linejoin:round;}\n  </style>\n </defs>\n <g id=\"figure_1\">\n  <g id=\"patch_1\">\n   <path d=\"M 0 352.15625 \nL 568.2875 352.15625 \nL 568.2875 0 \nL 0 0 \nz\n\" style=\"fill:none;\"/>\n  </g>\n  <g id=\"axes_1\">\n   <g id=\"patch_2\">\n    <path d=\"M 59.96875 314.6 \nL 561.0875 314.6 \nL 561.0875 7.2 \nL 59.96875 7.2 \nz\n\" style=\"fill:#ffffff;\"/>\n   </g>\n   <g id=\"patch_3\">\n    <path clip-path=\"url(#p9c1e4ada69)\" d=\"M 63.82351 314.6 \nL 79.242548 314.6 \nL 79.242548 21.838095 \nL 63.82351 21.838095 \nz\n\" style=\"fill:#3274a1;\"/>\n   </g>\n   <g id=\"patch_4\">\n    <path clip-path=\"url(#p9c1e4ada69)\" d=\"M 102.371106 314.6 \nL 117.790144 314.6 \nL 117.790144 119.235601 \nL 102.371106 119.235601 \nz\n\" style=\"fill:#3274a1;\"/>\n   </g>\n   <g id=\"patch_5\">\n    <path clip-path=\"url(#p9c1e4ada69)\" d=\"M 140.918702 314.6 \nL 156.33774 314.6 \nL 156.33774 250.343398 \nL 140.918702 250.343398 \nz\n\" style=\"fill:#3274a1;\"/>\n   </g>\n   <g id=\"patch_6\">\n    <path clip-path=\"url(#p9c1e4ada69)\" d=\"M 179.466298 314.6 \nL 194.885337 314.6 \nL 194.885337 251.058367 \nL 179.466298 251.058367 \nz\n\" style=\"fill:#3274a1;\"/>\n   </g>\n   <g id=\"patch_7\">\n    <path clip-path=\"url(#p9c1e4ada69)\" d=\"M 218.013894 314.6 \nL 233.432933 314.6 \nL 233.432933 256.73606 \nL 218.013894 256.73606 \nz\n\" style=\"fill:#3274a1;\"/>\n   </g>\n   <g id=\"patch_8\">\n    <path clip-path=\"url(#p9c1e4ada69)\" d=\"M 256.56149 314.6 \nL 271.980529 314.6 \nL 271.980529 269.815782 \nL 256.56149 269.815782 \nz\n\" style=\"fill:#3274a1;\"/>\n   </g>\n   <g id=\"patch_9\">\n    <path clip-path=\"url(#p9c1e4ada69)\" d=\"M 295.109087 314.6 \nL 310.528125 314.6 \nL 310.528125 272.009215 \nL 295.109087 272.009215 \nz\n\" style=\"fill:#3274a1;\"/>\n   </g>\n   <g id=\"patch_10\">\n    <path clip-path=\"url(#p9c1e4ada69)\" d=\"M 333.656683 314.6 \nL 349.075721 314.6 \nL 349.075721 273.636497 \nL 333.656683 273.636497 \nz\n\" style=\"fill:#3274a1;\"/>\n   </g>\n   <g id=\"patch_11\">\n    <path clip-path=\"url(#p9c1e4ada69)\" d=\"M 372.204279 314.6 \nL 387.623317 314.6 \nL 387.623317 278.696276 \nL 372.204279 278.696276 \nz\n\" style=\"fill:#3274a1;\"/>\n   </g>\n   <g id=\"patch_12\">\n    <path clip-path=\"url(#p9c1e4ada69)\" d=\"M 410.751875 314.6 \nL 426.170913 314.6 \nL 426.170913 280.915591 \nL 410.751875 280.915591 \nz\n\" style=\"fill:#3274a1;\"/>\n   </g>\n   <g id=\"patch_13\">\n    <path clip-path=\"url(#p9c1e4ada69)\" d=\"M 449.299471 314.6 \nL 464.71851 314.6 \nL 464.71851 287.233844 \nL 449.299471 287.233844 \nz\n\" style=\"fill:#3274a1;\"/>\n   </g>\n   <g id=\"patch_14\">\n    <path clip-path=\"url(#p9c1e4ada69)\" d=\"M 487.847067 314.6 \nL 503.266106 314.6 \nL 503.266106 287.919696 \nL 487.847067 287.919696 \nz\n\" style=\"fill:#3274a1;\"/>\n   </g>\n   <g id=\"patch_15\">\n    <path clip-path=\"url(#p9c1e4ada69)\" d=\"M 526.394663 314.6 \nL 541.813702 314.6 \nL 541.813702 288.534375 \nL 526.394663 288.534375 \nz\n\" style=\"fill:#3274a1;\"/>\n   </g>\n   <g id=\"patch_16\">\n    <path clip-path=\"url(#p9c1e4ada69)\" d=\"M 79.242548 314.6 \nL 94.661587 314.6 \nL 94.661587 253.491201 \nL 79.242548 253.491201 \nz\n\" style=\"fill:#e1812c;\"/>\n   </g>\n   <g id=\"patch_17\">\n    <path clip-path=\"url(#p9c1e4ada69)\" d=\"M 117.790144 314.6 \nL 133.209183 314.6 \nL 133.209183 268.512015 \nL 117.790144 268.512015 \nz\n\" style=\"fill:#e1812c;\"/>\n   </g>\n   <g id=\"patch_18\">\n    <path clip-path=\"url(#p9c1e4ada69)\" d=\"M 156.33774 314.6 \nL 171.756779 314.6 \nL 171.756779 289.084351 \nL 156.33774 289.084351 \nz\n\" style=\"fill:#e1812c;\"/>\n   </g>\n   <g id=\"patch_19\">\n    <path clip-path=\"url(#p9c1e4ada69)\" d=\"M 194.885337 314.6 \nL 210.304375 314.6 \nL 210.304375 301.578511 \nL 194.885337 301.578511 \nz\n\" style=\"fill:#e1812c;\"/>\n   </g>\n   <g id=\"patch_20\">\n    <path clip-path=\"url(#p9c1e4ada69)\" d=\"M 233.432933 314.6 \nL 248.851971 314.6 \nL 248.851971 300.035343 \nL 233.432933 300.035343 \nz\n\" style=\"fill:#e1812c;\"/>\n   </g>\n   <g id=\"patch_21\">\n    <path clip-path=\"url(#p9c1e4ada69)\" d=\"M 271.980529 314.6 \nL 287.399567 314.6 \nL 287.399567 303.810766 \nL 271.980529 303.810766 \nz\n\" style=\"fill:#e1812c;\"/>\n   </g>\n   <g id=\"patch_22\">\n    <path clip-path=\"url(#p9c1e4ada69)\" d=\"M 310.528125 314.6 \nL 325.947163 314.6 \nL 325.947163 304.490148 \nL 310.528125 304.490148 \nz\n\" style=\"fill:#e1812c;\"/>\n   </g>\n   <g id=\"patch_23\">\n    <path clip-path=\"url(#p9c1e4ada69)\" d=\"M 349.075721 314.6 \nL 364.49476 314.6 \nL 364.49476 304.687492 \nL 349.075721 304.687492 \nz\n\" style=\"fill:#e1812c;\"/>\n   </g>\n   <g id=\"patch_24\">\n    <path clip-path=\"url(#p9c1e4ada69)\" d=\"M 387.623317 314.6 \nL 403.042356 314.6 \nL 403.042356 306.884161 \nL 387.623317 306.884161 \nz\n\" style=\"fill:#e1812c;\"/>\n   </g>\n   <g id=\"patch_25\">\n    <path clip-path=\"url(#p9c1e4ada69)\" d=\"M 426.170913 314.6 \nL 441.589952 314.6 \nL 441.589952 306.525059 \nL 426.170913 306.525059 \nz\n\" style=\"fill:#e1812c;\"/>\n   </g>\n   <g id=\"patch_26\">\n    <path clip-path=\"url(#p9c1e4ada69)\" d=\"M 464.71851 314.6 \nL 480.137548 314.6 \nL 480.137548 308.925542 \nL 464.71851 308.925542 \nz\n\" style=\"fill:#e1812c;\"/>\n   </g>\n   <g id=\"patch_27\">\n    <path clip-path=\"url(#p9c1e4ada69)\" d=\"M 503.266106 314.6 \nL 518.685144 314.6 \nL 518.685144 307.408256 \nL 503.266106 307.408256 \nz\n\" style=\"fill:#e1812c;\"/>\n   </g>\n   <g id=\"patch_28\">\n    <path clip-path=\"url(#p9c1e4ada69)\" d=\"M 541.813702 314.6 \nL 557.23274 314.6 \nL 557.23274 308.388507 \nL 541.813702 308.388507 \nz\n\" style=\"fill:#e1812c;\"/>\n   </g>\n   <g id=\"matplotlib.axis_1\">\n    <g id=\"xtick_1\">\n     <g id=\"line2d_1\">\n      <defs>\n       <path d=\"M 0 0 \nL 0 3.5 \n\" id=\"m1662cc6f7b\" style=\"stroke:#000000;stroke-width:0.8;\"/>\n      </defs>\n      <g>\n       <use style=\"stroke:#000000;stroke-width:0.8;\" x=\"79.242548\" xlink:href=\"#m1662cc6f7b\" y=\"314.6\"/>\n      </g>\n     </g>\n     <g id=\"text_1\">\n      <!-- ak47 -->\n      <defs>\n       <path d=\"M 34.28125 27.484375 \nQ 23.390625 27.484375 19.1875 25 \nQ 14.984375 22.515625 14.984375 16.5 \nQ 14.984375 11.71875 18.140625 8.90625 \nQ 21.296875 6.109375 26.703125 6.109375 \nQ 34.1875 6.109375 38.703125 11.40625 \nQ 43.21875 16.703125 43.21875 25.484375 \nL 43.21875 27.484375 \nz\nM 52.203125 31.203125 \nL 52.203125 0 \nL 43.21875 0 \nL 43.21875 8.296875 \nQ 40.140625 3.328125 35.546875 0.953125 \nQ 30.953125 -1.421875 24.3125 -1.421875 \nQ 15.921875 -1.421875 10.953125 3.296875 \nQ 6 8.015625 6 15.921875 \nQ 6 25.140625 12.171875 29.828125 \nQ 18.359375 34.515625 30.609375 34.515625 \nL 43.21875 34.515625 \nL 43.21875 35.40625 \nQ 43.21875 41.609375 39.140625 45 \nQ 35.0625 48.390625 27.6875 48.390625 \nQ 23 48.390625 18.546875 47.265625 \nQ 14.109375 46.140625 10.015625 43.890625 \nL 10.015625 52.203125 \nQ 14.9375 54.109375 19.578125 55.046875 \nQ 24.21875 56 28.609375 56 \nQ 40.484375 56 46.34375 49.84375 \nQ 52.203125 43.703125 52.203125 31.203125 \nz\n\" id=\"DejaVuSans-97\"/>\n       <path d=\"M 9.078125 75.984375 \nL 18.109375 75.984375 \nL 18.109375 31.109375 \nL 44.921875 54.6875 \nL 56.390625 54.6875 \nL 27.390625 29.109375 \nL 57.625 0 \nL 45.90625 0 \nL 18.109375 26.703125 \nL 18.109375 0 \nL 9.078125 0 \nz\n\" id=\"DejaVuSans-107\"/>\n       <path d=\"M 37.796875 64.3125 \nL 12.890625 25.390625 \nL 37.796875 25.390625 \nz\nM 35.203125 72.90625 \nL 47.609375 72.90625 \nL 47.609375 25.390625 \nL 58.015625 25.390625 \nL 58.015625 17.1875 \nL 47.609375 17.1875 \nL 47.609375 0 \nL 37.796875 0 \nL 37.796875 17.1875 \nL 4.890625 17.1875 \nL 4.890625 26.703125 \nz\n\" id=\"DejaVuSans-52\"/>\n       <path d=\"M 8.203125 72.90625 \nL 55.078125 72.90625 \nL 55.078125 68.703125 \nL 28.609375 0 \nL 18.3125 0 \nL 43.21875 64.59375 \nL 8.203125 64.59375 \nz\n\" id=\"DejaVuSans-55\"/>\n      </defs>\n      <g transform=\"translate(66.920673 329.198437)scale(0.1 -0.1)\">\n       <use xlink:href=\"#DejaVuSans-97\"/>\n       <use x=\"61.279297\" xlink:href=\"#DejaVuSans-107\"/>\n       <use x=\"119.189453\" xlink:href=\"#DejaVuSans-52\"/>\n       <use x=\"182.8125\" xlink:href=\"#DejaVuSans-55\"/>\n      </g>\n     </g>\n    </g>\n    <g id=\"xtick_2\">\n     <g id=\"line2d_2\">\n      <g>\n       <use style=\"stroke:#000000;stroke-width:0.8;\" x=\"117.790144\" xlink:href=\"#m1662cc6f7b\" y=\"314.6\"/>\n      </g>\n     </g>\n     <g id=\"text_2\">\n      <!-- m4a1 -->\n      <defs>\n       <path d=\"M 52 44.1875 \nQ 55.375 50.25 60.0625 53.125 \nQ 64.75 56 71.09375 56 \nQ 79.640625 56 84.28125 50.015625 \nQ 88.921875 44.046875 88.921875 33.015625 \nL 88.921875 0 \nL 79.890625 0 \nL 79.890625 32.71875 \nQ 79.890625 40.578125 77.09375 44.375 \nQ 74.3125 48.1875 68.609375 48.1875 \nQ 61.625 48.1875 57.5625 43.546875 \nQ 53.515625 38.921875 53.515625 30.90625 \nL 53.515625 0 \nL 44.484375 0 \nL 44.484375 32.71875 \nQ 44.484375 40.625 41.703125 44.40625 \nQ 38.921875 48.1875 33.109375 48.1875 \nQ 26.21875 48.1875 22.15625 43.53125 \nQ 18.109375 38.875 18.109375 30.90625 \nL 18.109375 0 \nL 9.078125 0 \nL 9.078125 54.6875 \nL 18.109375 54.6875 \nL 18.109375 46.1875 \nQ 21.1875 51.21875 25.484375 53.609375 \nQ 29.78125 56 35.6875 56 \nQ 41.65625 56 45.828125 52.96875 \nQ 50 49.953125 52 44.1875 \nz\n\" id=\"DejaVuSans-109\"/>\n       <path d=\"M 12.40625 8.296875 \nL 28.515625 8.296875 \nL 28.515625 63.921875 \nL 10.984375 60.40625 \nL 10.984375 69.390625 \nL 28.421875 72.90625 \nL 38.28125 72.90625 \nL 38.28125 8.296875 \nL 54.390625 8.296875 \nL 54.390625 0 \nL 12.40625 0 \nz\n\" id=\"DejaVuSans-49\"/>\n      </defs>\n      <g transform=\"translate(103.493269 329.198437)scale(0.1 -0.1)\">\n       <use xlink:href=\"#DejaVuSans-109\"/>\n       <use x=\"97.412109\" xlink:href=\"#DejaVuSans-52\"/>\n       <use x=\"161.035156\" xlink:href=\"#DejaVuSans-97\"/>\n       <use x=\"222.314453\" xlink:href=\"#DejaVuSans-49\"/>\n      </g>\n     </g>\n    </g>\n    <g id=\"xtick_3\">\n     <g id=\"line2d_3\">\n      <g>\n       <use style=\"stroke:#000000;stroke-width:0.8;\" x=\"156.33774\" xlink:href=\"#m1662cc6f7b\" y=\"314.6\"/>\n      </g>\n     </g>\n     <g id=\"text_3\">\n      <!-- awp -->\n      <defs>\n       <path d=\"M 4.203125 54.6875 \nL 13.1875 54.6875 \nL 24.421875 12.015625 \nL 35.59375 54.6875 \nL 46.1875 54.6875 \nL 57.421875 12.015625 \nL 68.609375 54.6875 \nL 77.59375 54.6875 \nL 63.28125 0 \nL 52.6875 0 \nL 40.921875 44.828125 \nL 29.109375 0 \nL 18.5 0 \nz\n\" id=\"DejaVuSans-119\"/>\n       <path d=\"M 18.109375 8.203125 \nL 18.109375 -20.796875 \nL 9.078125 -20.796875 \nL 9.078125 54.6875 \nL 18.109375 54.6875 \nL 18.109375 46.390625 \nQ 20.953125 51.265625 25.265625 53.625 \nQ 29.59375 56 35.59375 56 \nQ 45.5625 56 51.78125 48.09375 \nQ 58.015625 40.1875 58.015625 27.296875 \nQ 58.015625 14.40625 51.78125 6.484375 \nQ 45.5625 -1.421875 35.59375 -1.421875 \nQ 29.59375 -1.421875 25.265625 0.953125 \nQ 20.953125 3.328125 18.109375 8.203125 \nz\nM 48.6875 27.296875 \nQ 48.6875 37.203125 44.609375 42.84375 \nQ 40.53125 48.484375 33.40625 48.484375 \nQ 26.265625 48.484375 22.1875 42.84375 \nQ 18.109375 37.203125 18.109375 27.296875 \nQ 18.109375 17.390625 22.1875 11.75 \nQ 26.265625 6.109375 33.40625 6.109375 \nQ 40.53125 6.109375 44.609375 11.75 \nQ 48.6875 17.390625 48.6875 27.296875 \nz\n\" id=\"DejaVuSans-112\"/>\n      </defs>\n      <g transform=\"translate(146.010397 329.198437)scale(0.1 -0.1)\">\n       <use xlink:href=\"#DejaVuSans-97\"/>\n       <use x=\"61.279297\" xlink:href=\"#DejaVuSans-119\"/>\n       <use x=\"143.066406\" xlink:href=\"#DejaVuSans-112\"/>\n      </g>\n     </g>\n    </g>\n    <g id=\"xtick_4\">\n     <g id=\"line2d_4\">\n      <g>\n       <use style=\"stroke:#000000;stroke-width:0.8;\" x=\"194.885337\" xlink:href=\"#m1662cc6f7b\" y=\"314.6\"/>\n      </g>\n     </g>\n     <g id=\"text_4\">\n      <!-- p90 -->\n      <defs>\n       <path d=\"M 10.984375 1.515625 \nL 10.984375 10.5 \nQ 14.703125 8.734375 18.5 7.8125 \nQ 22.3125 6.890625 25.984375 6.890625 \nQ 35.75 6.890625 40.890625 13.453125 \nQ 46.046875 20.015625 46.78125 33.40625 \nQ 43.953125 29.203125 39.59375 26.953125 \nQ 35.25 24.703125 29.984375 24.703125 \nQ 19.046875 24.703125 12.671875 31.3125 \nQ 6.296875 37.9375 6.296875 49.421875 \nQ 6.296875 60.640625 12.9375 67.421875 \nQ 19.578125 74.21875 30.609375 74.21875 \nQ 43.265625 74.21875 49.921875 64.515625 \nQ 56.59375 54.828125 56.59375 36.375 \nQ 56.59375 19.140625 48.40625 8.859375 \nQ 40.234375 -1.421875 26.421875 -1.421875 \nQ 22.703125 -1.421875 18.890625 -0.6875 \nQ 15.09375 0.046875 10.984375 1.515625 \nz\nM 30.609375 32.421875 \nQ 37.25 32.421875 41.125 36.953125 \nQ 45.015625 41.5 45.015625 49.421875 \nQ 45.015625 57.28125 41.125 61.84375 \nQ 37.25 66.40625 30.609375 66.40625 \nQ 23.96875 66.40625 20.09375 61.84375 \nQ 16.21875 57.28125 16.21875 49.421875 \nQ 16.21875 41.5 20.09375 36.953125 \nQ 23.96875 32.421875 30.609375 32.421875 \nz\n\" id=\"DejaVuSans-57\"/>\n       <path d=\"M 31.78125 66.40625 \nQ 24.171875 66.40625 20.328125 58.90625 \nQ 16.5 51.421875 16.5 36.375 \nQ 16.5 21.390625 20.328125 13.890625 \nQ 24.171875 6.390625 31.78125 6.390625 \nQ 39.453125 6.390625 43.28125 13.890625 \nQ 47.125 21.390625 47.125 36.375 \nQ 47.125 51.421875 43.28125 58.90625 \nQ 39.453125 66.40625 31.78125 66.40625 \nz\nM 31.78125 74.21875 \nQ 44.046875 74.21875 50.515625 64.515625 \nQ 56.984375 54.828125 56.984375 36.375 \nQ 56.984375 17.96875 50.515625 8.265625 \nQ 44.046875 -1.421875 31.78125 -1.421875 \nQ 19.53125 -1.421875 13.0625 8.265625 \nQ 6.59375 17.96875 6.59375 36.375 \nQ 6.59375 54.828125 13.0625 64.515625 \nQ 19.53125 74.21875 31.78125 74.21875 \nz\n\" id=\"DejaVuSans-48\"/>\n      </defs>\n      <g transform=\"translate(185.348618 329.198437)scale(0.1 -0.1)\">\n       <use xlink:href=\"#DejaVuSans-112\"/>\n       <use x=\"63.476562\" xlink:href=\"#DejaVuSans-57\"/>\n       <use x=\"127.099609\" xlink:href=\"#DejaVuSans-48\"/>\n      </g>\n     </g>\n    </g>\n    <g id=\"xtick_5\">\n     <g id=\"line2d_5\">\n      <g>\n       <use style=\"stroke:#000000;stroke-width:0.8;\" x=\"233.432933\" xlink:href=\"#m1662cc6f7b\" y=\"314.6\"/>\n      </g>\n     </g>\n     <g id=\"text_5\">\n      <!-- hkp2000 -->\n      <defs>\n       <path d=\"M 54.890625 33.015625 \nL 54.890625 0 \nL 45.90625 0 \nL 45.90625 32.71875 \nQ 45.90625 40.484375 42.875 44.328125 \nQ 39.84375 48.1875 33.796875 48.1875 \nQ 26.515625 48.1875 22.3125 43.546875 \nQ 18.109375 38.921875 18.109375 30.90625 \nL 18.109375 0 \nL 9.078125 0 \nL 9.078125 75.984375 \nL 18.109375 75.984375 \nL 18.109375 46.1875 \nQ 21.34375 51.125 25.703125 53.5625 \nQ 30.078125 56 35.796875 56 \nQ 45.21875 56 50.046875 50.171875 \nQ 54.890625 44.34375 54.890625 33.015625 \nz\n\" id=\"DejaVuSans-104\"/>\n       <path d=\"M 19.1875 8.296875 \nL 53.609375 8.296875 \nL 53.609375 0 \nL 7.328125 0 \nL 7.328125 8.296875 \nQ 12.9375 14.109375 22.625 23.890625 \nQ 32.328125 33.6875 34.8125 36.53125 \nQ 39.546875 41.84375 41.421875 45.53125 \nQ 43.3125 49.21875 43.3125 52.78125 \nQ 43.3125 58.59375 39.234375 62.25 \nQ 35.15625 65.921875 28.609375 65.921875 \nQ 23.96875 65.921875 18.8125 64.3125 \nQ 13.671875 62.703125 7.8125 59.421875 \nL 7.8125 69.390625 \nQ 13.765625 71.78125 18.9375 73 \nQ 24.125 74.21875 28.421875 74.21875 \nQ 39.75 74.21875 46.484375 68.546875 \nQ 53.21875 62.890625 53.21875 53.421875 \nQ 53.21875 48.921875 51.53125 44.890625 \nQ 49.859375 40.875 45.40625 35.40625 \nQ 44.1875 33.984375 37.640625 27.21875 \nQ 31.109375 20.453125 19.1875 8.296875 \nz\n\" id=\"DejaVuSans-50\"/>\n      </defs>\n      <g transform=\"translate(211.469651 329.198437)scale(0.1 -0.1)\">\n       <use xlink:href=\"#DejaVuSans-104\"/>\n       <use x=\"63.378906\" xlink:href=\"#DejaVuSans-107\"/>\n       <use x=\"121.289062\" xlink:href=\"#DejaVuSans-112\"/>\n       <use x=\"184.765625\" xlink:href=\"#DejaVuSans-50\"/>\n       <use x=\"248.388672\" xlink:href=\"#DejaVuSans-48\"/>\n       <use x=\"312.011719\" xlink:href=\"#DejaVuSans-48\"/>\n       <use x=\"375.634766\" xlink:href=\"#DejaVuSans-48\"/>\n      </g>\n     </g>\n    </g>\n    <g id=\"xtick_6\">\n     <g id=\"line2d_6\">\n      <g>\n       <use style=\"stroke:#000000;stroke-width:0.8;\" x=\"271.980529\" xlink:href=\"#m1662cc6f7b\" y=\"314.6\"/>\n      </g>\n     </g>\n     <g id=\"text_6\">\n      <!-- glock -->\n      <defs>\n       <path d=\"M 45.40625 27.984375 \nQ 45.40625 37.75 41.375 43.109375 \nQ 37.359375 48.484375 30.078125 48.484375 \nQ 22.859375 48.484375 18.828125 43.109375 \nQ 14.796875 37.75 14.796875 27.984375 \nQ 14.796875 18.265625 18.828125 12.890625 \nQ 22.859375 7.515625 30.078125 7.515625 \nQ 37.359375 7.515625 41.375 12.890625 \nQ 45.40625 18.265625 45.40625 27.984375 \nz\nM 54.390625 6.78125 \nQ 54.390625 -7.171875 48.1875 -13.984375 \nQ 42 -20.796875 29.203125 -20.796875 \nQ 24.46875 -20.796875 20.265625 -20.09375 \nQ 16.0625 -19.390625 12.109375 -17.921875 \nL 12.109375 -9.1875 \nQ 16.0625 -11.328125 19.921875 -12.34375 \nQ 23.78125 -13.375 27.78125 -13.375 \nQ 36.625 -13.375 41.015625 -8.765625 \nQ 45.40625 -4.15625 45.40625 5.171875 \nL 45.40625 9.625 \nQ 42.625 4.78125 38.28125 2.390625 \nQ 33.9375 0 27.875 0 \nQ 17.828125 0 11.671875 7.65625 \nQ 5.515625 15.328125 5.515625 27.984375 \nQ 5.515625 40.671875 11.671875 48.328125 \nQ 17.828125 56 27.875 56 \nQ 33.9375 56 38.28125 53.609375 \nQ 42.625 51.21875 45.40625 46.390625 \nL 45.40625 54.6875 \nL 54.390625 54.6875 \nz\n\" id=\"DejaVuSans-103\"/>\n       <path d=\"M 9.421875 75.984375 \nL 18.40625 75.984375 \nL 18.40625 0 \nL 9.421875 0 \nz\n\" id=\"DejaVuSans-108\"/>\n       <path d=\"M 30.609375 48.390625 \nQ 23.390625 48.390625 19.1875 42.75 \nQ 14.984375 37.109375 14.984375 27.296875 \nQ 14.984375 17.484375 19.15625 11.84375 \nQ 23.34375 6.203125 30.609375 6.203125 \nQ 37.796875 6.203125 41.984375 11.859375 \nQ 46.1875 17.53125 46.1875 27.296875 \nQ 46.1875 37.015625 41.984375 42.703125 \nQ 37.796875 48.390625 30.609375 48.390625 \nz\nM 30.609375 56 \nQ 42.328125 56 49.015625 48.375 \nQ 55.71875 40.765625 55.71875 27.296875 \nQ 55.71875 13.875 49.015625 6.21875 \nQ 42.328125 -1.421875 30.609375 -1.421875 \nQ 18.84375 -1.421875 12.171875 6.21875 \nQ 5.515625 13.875 5.515625 27.296875 \nQ 5.515625 40.765625 12.171875 48.375 \nQ 18.84375 56 30.609375 56 \nz\n\" id=\"DejaVuSans-111\"/>\n       <path d=\"M 48.78125 52.59375 \nL 48.78125 44.1875 \nQ 44.96875 46.296875 41.140625 47.34375 \nQ 37.3125 48.390625 33.40625 48.390625 \nQ 24.65625 48.390625 19.8125 42.84375 \nQ 14.984375 37.3125 14.984375 27.296875 \nQ 14.984375 17.28125 19.8125 11.734375 \nQ 24.65625 6.203125 33.40625 6.203125 \nQ 37.3125 6.203125 41.140625 7.25 \nQ 44.96875 8.296875 48.78125 10.40625 \nL 48.78125 2.09375 \nQ 45.015625 0.34375 40.984375 -0.53125 \nQ 36.96875 -1.421875 32.421875 -1.421875 \nQ 20.0625 -1.421875 12.78125 6.34375 \nQ 5.515625 14.109375 5.515625 27.296875 \nQ 5.515625 40.671875 12.859375 48.328125 \nQ 20.21875 56 33.015625 56 \nQ 37.15625 56 41.109375 55.140625 \nQ 45.0625 54.296875 48.78125 52.59375 \nz\n\" id=\"DejaVuSans-99\"/>\n      </defs>\n      <g transform=\"translate(258.713341 329.198437)scale(0.1 -0.1)\">\n       <use xlink:href=\"#DejaVuSans-103\"/>\n       <use x=\"63.476562\" xlink:href=\"#DejaVuSans-108\"/>\n       <use x=\"91.259766\" xlink:href=\"#DejaVuSans-111\"/>\n       <use x=\"152.441406\" xlink:href=\"#DejaVuSans-99\"/>\n       <use x=\"207.421875\" xlink:href=\"#DejaVuSans-107\"/>\n      </g>\n     </g>\n    </g>\n    <g id=\"xtick_7\">\n     <g id=\"line2d_7\">\n      <g>\n       <use style=\"stroke:#000000;stroke-width:0.8;\" x=\"310.528125\" xlink:href=\"#m1662cc6f7b\" y=\"314.6\"/>\n      </g>\n     </g>\n     <g id=\"text_7\">\n      <!-- sg556 -->\n      <defs>\n       <path d=\"M 44.28125 53.078125 \nL 44.28125 44.578125 \nQ 40.484375 46.53125 36.375 47.5 \nQ 32.28125 48.484375 27.875 48.484375 \nQ 21.1875 48.484375 17.84375 46.4375 \nQ 14.5 44.390625 14.5 40.28125 \nQ 14.5 37.15625 16.890625 35.375 \nQ 19.28125 33.59375 26.515625 31.984375 \nL 29.59375 31.296875 \nQ 39.15625 29.25 43.1875 25.515625 \nQ 47.21875 21.78125 47.21875 15.09375 \nQ 47.21875 7.46875 41.1875 3.015625 \nQ 35.15625 -1.421875 24.609375 -1.421875 \nQ 20.21875 -1.421875 15.453125 -0.5625 \nQ 10.6875 0.296875 5.421875 2 \nL 5.421875 11.28125 \nQ 10.40625 8.6875 15.234375 7.390625 \nQ 20.0625 6.109375 24.8125 6.109375 \nQ 31.15625 6.109375 34.5625 8.28125 \nQ 37.984375 10.453125 37.984375 14.40625 \nQ 37.984375 18.0625 35.515625 20.015625 \nQ 33.0625 21.96875 24.703125 23.78125 \nL 21.578125 24.515625 \nQ 13.234375 26.265625 9.515625 29.90625 \nQ 5.8125 33.546875 5.8125 39.890625 \nQ 5.8125 47.609375 11.28125 51.796875 \nQ 16.75 56 26.8125 56 \nQ 31.78125 56 36.171875 55.265625 \nQ 40.578125 54.546875 44.28125 53.078125 \nz\n\" id=\"DejaVuSans-115\"/>\n       <path d=\"M 10.796875 72.90625 \nL 49.515625 72.90625 \nL 49.515625 64.59375 \nL 19.828125 64.59375 \nL 19.828125 46.734375 \nQ 21.96875 47.46875 24.109375 47.828125 \nQ 26.265625 48.1875 28.421875 48.1875 \nQ 40.625 48.1875 47.75 41.5 \nQ 54.890625 34.8125 54.890625 23.390625 \nQ 54.890625 11.625 47.5625 5.09375 \nQ 40.234375 -1.421875 26.90625 -1.421875 \nQ 22.3125 -1.421875 17.546875 -0.640625 \nQ 12.796875 0.140625 7.71875 1.703125 \nL 7.71875 11.625 \nQ 12.109375 9.234375 16.796875 8.0625 \nQ 21.484375 6.890625 26.703125 6.890625 \nQ 35.15625 6.890625 40.078125 11.328125 \nQ 45.015625 15.765625 45.015625 23.390625 \nQ 45.015625 31 40.078125 35.4375 \nQ 35.15625 39.890625 26.703125 39.890625 \nQ 22.75 39.890625 18.8125 39.015625 \nQ 14.890625 38.140625 10.796875 36.28125 \nz\n\" id=\"DejaVuSans-53\"/>\n       <path d=\"M 33.015625 40.375 \nQ 26.375 40.375 22.484375 35.828125 \nQ 18.609375 31.296875 18.609375 23.390625 \nQ 18.609375 15.53125 22.484375 10.953125 \nQ 26.375 6.390625 33.015625 6.390625 \nQ 39.65625 6.390625 43.53125 10.953125 \nQ 47.40625 15.53125 47.40625 23.390625 \nQ 47.40625 31.296875 43.53125 35.828125 \nQ 39.65625 40.375 33.015625 40.375 \nz\nM 52.59375 71.296875 \nL 52.59375 62.3125 \nQ 48.875 64.0625 45.09375 64.984375 \nQ 41.3125 65.921875 37.59375 65.921875 \nQ 27.828125 65.921875 22.671875 59.328125 \nQ 17.53125 52.734375 16.796875 39.40625 \nQ 19.671875 43.65625 24.015625 45.921875 \nQ 28.375 48.1875 33.59375 48.1875 \nQ 44.578125 48.1875 50.953125 41.515625 \nQ 57.328125 34.859375 57.328125 23.390625 \nQ 57.328125 12.15625 50.6875 5.359375 \nQ 44.046875 -1.421875 33.015625 -1.421875 \nQ 20.359375 -1.421875 13.671875 8.265625 \nQ 6.984375 17.96875 6.984375 36.375 \nQ 6.984375 53.65625 15.1875 63.9375 \nQ 23.390625 74.21875 37.203125 74.21875 \nQ 40.921875 74.21875 44.703125 73.484375 \nQ 48.484375 72.75 52.59375 71.296875 \nz\n\" id=\"DejaVuSans-54\"/>\n      </defs>\n      <g transform=\"translate(295.205469 329.198437)scale(0.1 -0.1)\">\n       <use xlink:href=\"#DejaVuSans-115\"/>\n       <use x=\"52.099609\" xlink:href=\"#DejaVuSans-103\"/>\n       <use x=\"115.576172\" xlink:href=\"#DejaVuSans-53\"/>\n       <use x=\"179.199219\" xlink:href=\"#DejaVuSans-53\"/>\n       <use x=\"242.822266\" xlink:href=\"#DejaVuSans-54\"/>\n      </g>\n     </g>\n    </g>\n    <g id=\"xtick_8\">\n     <g id=\"line2d_8\">\n      <g>\n       <use style=\"stroke:#000000;stroke-width:0.8;\" x=\"349.075721\" xlink:href=\"#m1662cc6f7b\" y=\"314.6\"/>\n      </g>\n     </g>\n     <g id=\"text_8\">\n      <!-- p250 -->\n      <g transform=\"translate(336.357752 329.198437)scale(0.1 -0.1)\">\n       <use xlink:href=\"#DejaVuSans-112\"/>\n       <use x=\"63.476562\" xlink:href=\"#DejaVuSans-50\"/>\n       <use x=\"127.099609\" xlink:href=\"#DejaVuSans-53\"/>\n       <use x=\"190.722656\" xlink:href=\"#DejaVuSans-48\"/>\n      </g>\n     </g>\n    </g>\n    <g id=\"xtick_9\">\n     <g id=\"line2d_9\">\n      <g>\n       <use style=\"stroke:#000000;stroke-width:0.8;\" x=\"387.623317\" xlink:href=\"#m1662cc6f7b\" y=\"314.6\"/>\n      </g>\n     </g>\n     <g id=\"text_9\">\n      <!-- ump45 -->\n      <defs>\n       <path d=\"M 8.5 21.578125 \nL 8.5 54.6875 \nL 17.484375 54.6875 \nL 17.484375 21.921875 \nQ 17.484375 14.15625 20.5 10.265625 \nQ 23.53125 6.390625 29.59375 6.390625 \nQ 36.859375 6.390625 41.078125 11.03125 \nQ 45.3125 15.671875 45.3125 23.6875 \nL 45.3125 54.6875 \nL 54.296875 54.6875 \nL 54.296875 0 \nL 45.3125 0 \nL 45.3125 8.40625 \nQ 42.046875 3.421875 37.71875 1 \nQ 33.40625 -1.421875 27.6875 -1.421875 \nQ 18.265625 -1.421875 13.375 4.4375 \nQ 8.5 10.296875 8.5 21.578125 \nz\nM 31.109375 56 \nz\n\" id=\"DejaVuSans-117\"/>\n      </defs>\n      <g transform=\"translate(370.047536 329.198437)scale(0.1 -0.1)\">\n       <use xlink:href=\"#DejaVuSans-117\"/>\n       <use x=\"63.378906\" xlink:href=\"#DejaVuSans-109\"/>\n       <use x=\"160.791016\" xlink:href=\"#DejaVuSans-112\"/>\n       <use x=\"224.267578\" xlink:href=\"#DejaVuSans-52\"/>\n       <use x=\"287.890625\" xlink:href=\"#DejaVuSans-53\"/>\n      </g>\n     </g>\n    </g>\n    <g id=\"xtick_10\">\n     <g id=\"line2d_10\">\n      <g>\n       <use style=\"stroke:#000000;stroke-width:0.8;\" x=\"426.170913\" xlink:href=\"#m1662cc6f7b\" y=\"314.6\"/>\n      </g>\n     </g>\n     <g id=\"text_10\">\n      <!-- xm1014 -->\n      <defs>\n       <path d=\"M 54.890625 54.6875 \nL 35.109375 28.078125 \nL 55.90625 0 \nL 45.3125 0 \nL 29.390625 21.484375 \nL 13.484375 0 \nL 2.875 0 \nL 24.125 28.609375 \nL 4.6875 54.6875 \nL 15.28125 54.6875 \nL 29.78125 35.203125 \nL 44.28125 54.6875 \nz\n\" id=\"DejaVuSans-120\"/>\n      </defs>\n      <g transform=\"translate(405.616226 329.198437)scale(0.1 -0.1)\">\n       <use xlink:href=\"#DejaVuSans-120\"/>\n       <use x=\"59.179688\" xlink:href=\"#DejaVuSans-109\"/>\n       <use x=\"156.591797\" xlink:href=\"#DejaVuSans-49\"/>\n       <use x=\"220.214844\" xlink:href=\"#DejaVuSans-48\"/>\n       <use x=\"283.837891\" xlink:href=\"#DejaVuSans-49\"/>\n       <use x=\"347.460938\" xlink:href=\"#DejaVuSans-52\"/>\n      </g>\n     </g>\n    </g>\n    <g id=\"xtick_11\">\n     <g id=\"line2d_11\">\n      <g>\n       <use style=\"stroke:#000000;stroke-width:0.8;\" x=\"464.71851\" xlink:href=\"#m1662cc6f7b\" y=\"314.6\"/>\n      </g>\n     </g>\n     <g id=\"text_11\">\n      <!-- nova -->\n      <defs>\n       <path d=\"M 54.890625 33.015625 \nL 54.890625 0 \nL 45.90625 0 \nL 45.90625 32.71875 \nQ 45.90625 40.484375 42.875 44.328125 \nQ 39.84375 48.1875 33.796875 48.1875 \nQ 26.515625 48.1875 22.3125 43.546875 \nQ 18.109375 38.921875 18.109375 30.90625 \nL 18.109375 0 \nL 9.078125 0 \nL 9.078125 54.6875 \nL 18.109375 54.6875 \nL 18.109375 46.1875 \nQ 21.34375 51.125 25.703125 53.5625 \nQ 30.078125 56 35.796875 56 \nQ 45.21875 56 50.046875 50.171875 \nQ 54.890625 44.34375 54.890625 33.015625 \nz\n\" id=\"DejaVuSans-110\"/>\n       <path d=\"M 2.984375 54.6875 \nL 12.5 54.6875 \nL 29.59375 8.796875 \nL 46.6875 54.6875 \nL 56.203125 54.6875 \nL 35.6875 0 \nL 23.484375 0 \nz\n\" id=\"DejaVuSans-118\"/>\n      </defs>\n      <g transform=\"translate(452.466947 329.198437)scale(0.1 -0.1)\">\n       <use xlink:href=\"#DejaVuSans-110\"/>\n       <use x=\"63.378906\" xlink:href=\"#DejaVuSans-111\"/>\n       <use x=\"124.560547\" xlink:href=\"#DejaVuSans-118\"/>\n       <use x=\"183.740234\" xlink:href=\"#DejaVuSans-97\"/>\n      </g>\n     </g>\n    </g>\n    <g id=\"xtick_12\">\n     <g id=\"line2d_12\">\n      <g>\n       <use style=\"stroke:#000000;stroke-width:0.8;\" x=\"503.266106\" xlink:href=\"#m1662cc6f7b\" y=\"314.6\"/>\n      </g>\n     </g>\n     <g id=\"text_12\">\n      <!-- deagle -->\n      <defs>\n       <path d=\"M 45.40625 46.390625 \nL 45.40625 75.984375 \nL 54.390625 75.984375 \nL 54.390625 0 \nL 45.40625 0 \nL 45.40625 8.203125 \nQ 42.578125 3.328125 38.25 0.953125 \nQ 33.9375 -1.421875 27.875 -1.421875 \nQ 17.96875 -1.421875 11.734375 6.484375 \nQ 5.515625 14.40625 5.515625 27.296875 \nQ 5.515625 40.1875 11.734375 48.09375 \nQ 17.96875 56 27.875 56 \nQ 33.9375 56 38.25 53.625 \nQ 42.578125 51.265625 45.40625 46.390625 \nz\nM 14.796875 27.296875 \nQ 14.796875 17.390625 18.875 11.75 \nQ 22.953125 6.109375 30.078125 6.109375 \nQ 37.203125 6.109375 41.296875 11.75 \nQ 45.40625 17.390625 45.40625 27.296875 \nQ 45.40625 37.203125 41.296875 42.84375 \nQ 37.203125 48.484375 30.078125 48.484375 \nQ 22.953125 48.484375 18.875 42.84375 \nQ 14.796875 37.203125 14.796875 27.296875 \nz\n\" id=\"DejaVuSans-100\"/>\n       <path d=\"M 56.203125 29.59375 \nL 56.203125 25.203125 \nL 14.890625 25.203125 \nQ 15.484375 15.921875 20.484375 11.0625 \nQ 25.484375 6.203125 34.421875 6.203125 \nQ 39.59375 6.203125 44.453125 7.46875 \nQ 49.3125 8.734375 54.109375 11.28125 \nL 54.109375 2.78125 \nQ 49.265625 0.734375 44.1875 -0.34375 \nQ 39.109375 -1.421875 33.890625 -1.421875 \nQ 20.796875 -1.421875 13.15625 6.1875 \nQ 5.515625 13.8125 5.515625 26.8125 \nQ 5.515625 40.234375 12.765625 48.109375 \nQ 20.015625 56 32.328125 56 \nQ 43.359375 56 49.78125 48.890625 \nQ 56.203125 41.796875 56.203125 29.59375 \nz\nM 47.21875 32.234375 \nQ 47.125 39.59375 43.09375 43.984375 \nQ 39.0625 48.390625 32.421875 48.390625 \nQ 24.90625 48.390625 20.390625 44.140625 \nQ 15.875 39.890625 15.1875 32.171875 \nz\n\" id=\"DejaVuSans-101\"/>\n      </defs>\n      <g transform=\"translate(486.311418 329.198437)scale(0.1 -0.1)\">\n       <use xlink:href=\"#DejaVuSans-100\"/>\n       <use x=\"63.476562\" xlink:href=\"#DejaVuSans-101\"/>\n       <use x=\"125\" xlink:href=\"#DejaVuSans-97\"/>\n       <use x=\"186.279297\" xlink:href=\"#DejaVuSans-103\"/>\n       <use x=\"249.755859\" xlink:href=\"#DejaVuSans-108\"/>\n       <use x=\"277.539062\" xlink:href=\"#DejaVuSans-101\"/>\n      </g>\n     </g>\n    </g>\n    <g id=\"xtick_13\">\n     <g id=\"line2d_13\">\n      <g>\n       <use style=\"stroke:#000000;stroke-width:0.8;\" x=\"541.813702\" xlink:href=\"#m1662cc6f7b\" y=\"314.6\"/>\n      </g>\n     </g>\n     <g id=\"text_13\">\n      <!-- bizon -->\n      <defs>\n       <path d=\"M 48.6875 27.296875 \nQ 48.6875 37.203125 44.609375 42.84375 \nQ 40.53125 48.484375 33.40625 48.484375 \nQ 26.265625 48.484375 22.1875 42.84375 \nQ 18.109375 37.203125 18.109375 27.296875 \nQ 18.109375 17.390625 22.1875 11.75 \nQ 26.265625 6.109375 33.40625 6.109375 \nQ 40.53125 6.109375 44.609375 11.75 \nQ 48.6875 17.390625 48.6875 27.296875 \nz\nM 18.109375 46.390625 \nQ 20.953125 51.265625 25.265625 53.625 \nQ 29.59375 56 35.59375 56 \nQ 45.5625 56 51.78125 48.09375 \nQ 58.015625 40.1875 58.015625 27.296875 \nQ 58.015625 14.40625 51.78125 6.484375 \nQ 45.5625 -1.421875 35.59375 -1.421875 \nQ 29.59375 -1.421875 25.265625 0.953125 \nQ 20.953125 3.328125 18.109375 8.203125 \nL 18.109375 0 \nL 9.078125 0 \nL 9.078125 75.984375 \nL 18.109375 75.984375 \nz\n\" id=\"DejaVuSans-98\"/>\n       <path d=\"M 9.421875 54.6875 \nL 18.40625 54.6875 \nL 18.40625 0 \nL 9.421875 0 \nz\nM 9.421875 75.984375 \nL 18.40625 75.984375 \nL 18.40625 64.59375 \nL 9.421875 64.59375 \nz\n\" id=\"DejaVuSans-105\"/>\n       <path d=\"M 5.515625 54.6875 \nL 48.1875 54.6875 \nL 48.1875 46.484375 \nL 14.40625 7.171875 \nL 48.1875 7.171875 \nL 48.1875 0 \nL 4.296875 0 \nL 4.296875 8.203125 \nL 38.09375 47.515625 \nL 5.515625 47.515625 \nz\n\" id=\"DejaVuSans-122\"/>\n      </defs>\n      <g transform=\"translate(528.398077 329.198437)scale(0.1 -0.1)\">\n       <use xlink:href=\"#DejaVuSans-98\"/>\n       <use x=\"63.476562\" xlink:href=\"#DejaVuSans-105\"/>\n       <use x=\"91.259766\" xlink:href=\"#DejaVuSans-122\"/>\n       <use x=\"143.75\" xlink:href=\"#DejaVuSans-111\"/>\n       <use x=\"204.931641\" xlink:href=\"#DejaVuSans-110\"/>\n      </g>\n     </g>\n    </g>\n    <g id=\"text_14\">\n     <!-- weapon -->\n     <g transform=\"translate(290.896094 342.876562)scale(0.1 -0.1)\">\n      <use xlink:href=\"#DejaVuSans-119\"/>\n      <use x=\"81.787109\" xlink:href=\"#DejaVuSans-101\"/>\n      <use x=\"143.310547\" xlink:href=\"#DejaVuSans-97\"/>\n      <use x=\"204.589844\" xlink:href=\"#DejaVuSans-112\"/>\n      <use x=\"268.066406\" xlink:href=\"#DejaVuSans-111\"/>\n      <use x=\"329.248047\" xlink:href=\"#DejaVuSans-110\"/>\n     </g>\n    </g>\n   </g>\n   <g id=\"matplotlib.axis_2\">\n    <g id=\"ytick_1\">\n     <g id=\"line2d_14\">\n      <defs>\n       <path d=\"M 0 0 \nL -3.5 0 \n\" id=\"m9ac88b7272\" style=\"stroke:#000000;stroke-width:0.8;\"/>\n      </defs>\n      <g>\n       <use style=\"stroke:#000000;stroke-width:0.8;\" x=\"59.96875\" xlink:href=\"#m9ac88b7272\" y=\"314.6\"/>\n      </g>\n     </g>\n     <g id=\"text_15\">\n      <!-- 0 -->\n      <g transform=\"translate(46.60625 318.399219)scale(0.1 -0.1)\">\n       <use xlink:href=\"#DejaVuSans-48\"/>\n      </g>\n     </g>\n    </g>\n    <g id=\"ytick_2\">\n     <g id=\"line2d_15\">\n      <g>\n       <use style=\"stroke:#000000;stroke-width:0.8;\" x=\"59.96875\" xlink:href=\"#m9ac88b7272\" y=\"249.896947\"/>\n      </g>\n     </g>\n     <g id=\"text_16\">\n      <!-- 20000 -->\n      <g transform=\"translate(21.15625 253.696166)scale(0.1 -0.1)\">\n       <use xlink:href=\"#DejaVuSans-50\"/>\n       <use x=\"63.623047\" xlink:href=\"#DejaVuSans-48\"/>\n       <use x=\"127.246094\" xlink:href=\"#DejaVuSans-48\"/>\n       <use x=\"190.869141\" xlink:href=\"#DejaVuSans-48\"/>\n       <use x=\"254.492188\" xlink:href=\"#DejaVuSans-48\"/>\n      </g>\n     </g>\n    </g>\n    <g id=\"ytick_3\">\n     <g id=\"line2d_16\">\n      <g>\n       <use style=\"stroke:#000000;stroke-width:0.8;\" x=\"59.96875\" xlink:href=\"#m9ac88b7272\" y=\"185.193894\"/>\n      </g>\n     </g>\n     <g id=\"text_17\">\n      <!-- 40000 -->\n      <g transform=\"translate(21.15625 188.993112)scale(0.1 -0.1)\">\n       <use xlink:href=\"#DejaVuSans-52\"/>\n       <use x=\"63.623047\" xlink:href=\"#DejaVuSans-48\"/>\n       <use x=\"127.246094\" xlink:href=\"#DejaVuSans-48\"/>\n       <use x=\"190.869141\" xlink:href=\"#DejaVuSans-48\"/>\n       <use x=\"254.492188\" xlink:href=\"#DejaVuSans-48\"/>\n      </g>\n     </g>\n    </g>\n    <g id=\"ytick_4\">\n     <g id=\"line2d_17\">\n      <g>\n       <use style=\"stroke:#000000;stroke-width:0.8;\" x=\"59.96875\" xlink:href=\"#m9ac88b7272\" y=\"120.49084\"/>\n      </g>\n     </g>\n     <g id=\"text_18\">\n      <!-- 60000 -->\n      <g transform=\"translate(21.15625 124.290059)scale(0.1 -0.1)\">\n       <use xlink:href=\"#DejaVuSans-54\"/>\n       <use x=\"63.623047\" xlink:href=\"#DejaVuSans-48\"/>\n       <use x=\"127.246094\" xlink:href=\"#DejaVuSans-48\"/>\n       <use x=\"190.869141\" xlink:href=\"#DejaVuSans-48\"/>\n       <use x=\"254.492188\" xlink:href=\"#DejaVuSans-48\"/>\n      </g>\n     </g>\n    </g>\n    <g id=\"ytick_5\">\n     <g id=\"line2d_18\">\n      <g>\n       <use style=\"stroke:#000000;stroke-width:0.8;\" x=\"59.96875\" xlink:href=\"#m9ac88b7272\" y=\"55.787787\"/>\n      </g>\n     </g>\n     <g id=\"text_19\">\n      <!-- 80000 -->\n      <defs>\n       <path d=\"M 31.78125 34.625 \nQ 24.75 34.625 20.71875 30.859375 \nQ 16.703125 27.09375 16.703125 20.515625 \nQ 16.703125 13.921875 20.71875 10.15625 \nQ 24.75 6.390625 31.78125 6.390625 \nQ 38.8125 6.390625 42.859375 10.171875 \nQ 46.921875 13.96875 46.921875 20.515625 \nQ 46.921875 27.09375 42.890625 30.859375 \nQ 38.875 34.625 31.78125 34.625 \nz\nM 21.921875 38.8125 \nQ 15.578125 40.375 12.03125 44.71875 \nQ 8.5 49.078125 8.5 55.328125 \nQ 8.5 64.0625 14.71875 69.140625 \nQ 20.953125 74.21875 31.78125 74.21875 \nQ 42.671875 74.21875 48.875 69.140625 \nQ 55.078125 64.0625 55.078125 55.328125 \nQ 55.078125 49.078125 51.53125 44.71875 \nQ 48 40.375 41.703125 38.8125 \nQ 48.828125 37.15625 52.796875 32.3125 \nQ 56.78125 27.484375 56.78125 20.515625 \nQ 56.78125 9.90625 50.3125 4.234375 \nQ 43.84375 -1.421875 31.78125 -1.421875 \nQ 19.734375 -1.421875 13.25 4.234375 \nQ 6.78125 9.90625 6.78125 20.515625 \nQ 6.78125 27.484375 10.78125 32.3125 \nQ 14.796875 37.15625 21.921875 38.8125 \nz\nM 18.3125 54.390625 \nQ 18.3125 48.734375 21.84375 45.5625 \nQ 25.390625 42.390625 31.78125 42.390625 \nQ 38.140625 42.390625 41.71875 45.5625 \nQ 45.3125 48.734375 45.3125 54.390625 \nQ 45.3125 60.0625 41.71875 63.234375 \nQ 38.140625 66.40625 31.78125 66.40625 \nQ 25.390625 66.40625 21.84375 63.234375 \nQ 18.3125 60.0625 18.3125 54.390625 \nz\n\" id=\"DejaVuSans-56\"/>\n      </defs>\n      <g transform=\"translate(21.15625 59.587006)scale(0.1 -0.1)\">\n       <use xlink:href=\"#DejaVuSans-56\"/>\n       <use x=\"63.623047\" xlink:href=\"#DejaVuSans-48\"/>\n       <use x=\"127.246094\" xlink:href=\"#DejaVuSans-48\"/>\n       <use x=\"190.869141\" xlink:href=\"#DejaVuSans-48\"/>\n       <use x=\"254.492188\" xlink:href=\"#DejaVuSans-48\"/>\n      </g>\n     </g>\n    </g>\n    <g id=\"text_20\">\n     <!-- value_numbers -->\n     <defs>\n      <path d=\"M 50.984375 -16.609375 \nL 50.984375 -23.578125 \nL -0.984375 -23.578125 \nL -0.984375 -16.609375 \nz\n\" id=\"DejaVuSans-95\"/>\n      <path d=\"M 41.109375 46.296875 \nQ 39.59375 47.171875 37.8125 47.578125 \nQ 36.03125 48 33.890625 48 \nQ 26.265625 48 22.1875 43.046875 \nQ 18.109375 38.09375 18.109375 28.8125 \nL 18.109375 0 \nL 9.078125 0 \nL 9.078125 54.6875 \nL 18.109375 54.6875 \nL 18.109375 46.1875 \nQ 20.953125 51.171875 25.484375 53.578125 \nQ 30.03125 56 36.53125 56 \nQ 37.453125 56 38.578125 55.875 \nQ 39.703125 55.765625 41.0625 55.515625 \nz\n\" id=\"DejaVuSans-114\"/>\n     </defs>\n     <g transform=\"translate(14.798437 199.176562)rotate(-90)scale(0.1 -0.1)\">\n      <use xlink:href=\"#DejaVuSans-118\"/>\n      <use x=\"59.179688\" xlink:href=\"#DejaVuSans-97\"/>\n      <use x=\"120.458984\" xlink:href=\"#DejaVuSans-108\"/>\n      <use x=\"148.242188\" xlink:href=\"#DejaVuSans-117\"/>\n      <use x=\"211.621094\" xlink:href=\"#DejaVuSans-101\"/>\n      <use x=\"273.144531\" xlink:href=\"#DejaVuSans-95\"/>\n      <use x=\"323.144531\" xlink:href=\"#DejaVuSans-110\"/>\n      <use x=\"386.523438\" xlink:href=\"#DejaVuSans-117\"/>\n      <use x=\"449.902344\" xlink:href=\"#DejaVuSans-109\"/>\n      <use x=\"547.314453\" xlink:href=\"#DejaVuSans-98\"/>\n      <use x=\"610.791016\" xlink:href=\"#DejaVuSans-101\"/>\n      <use x=\"672.314453\" xlink:href=\"#DejaVuSans-114\"/>\n      <use x=\"713.427734\" xlink:href=\"#DejaVuSans-115\"/>\n     </g>\n    </g>\n   </g>\n   <g id=\"line2d_19\">\n    <path clip-path=\"url(#p9c1e4ada69)\" d=\"M 0 0 \n\" style=\"fill:none;stroke:#424242;stroke-linecap:square;stroke-width:2.7;\"/>\n   </g>\n   <g id=\"line2d_20\">\n    <path clip-path=\"url(#p9c1e4ada69)\" d=\"M 0 0 \n\" style=\"fill:none;stroke:#424242;stroke-linecap:square;stroke-width:2.7;\"/>\n   </g>\n   <g id=\"line2d_21\">\n    <path clip-path=\"url(#p9c1e4ada69)\" d=\"M 0 0 \n\" style=\"fill:none;stroke:#424242;stroke-linecap:square;stroke-width:2.7;\"/>\n   </g>\n   <g id=\"line2d_22\">\n    <path clip-path=\"url(#p9c1e4ada69)\" d=\"M 0 0 \n\" style=\"fill:none;stroke:#424242;stroke-linecap:square;stroke-width:2.7;\"/>\n   </g>\n   <g id=\"line2d_23\">\n    <path clip-path=\"url(#p9c1e4ada69)\" d=\"M 0 0 \n\" style=\"fill:none;stroke:#424242;stroke-linecap:square;stroke-width:2.7;\"/>\n   </g>\n   <g id=\"line2d_24\">\n    <path clip-path=\"url(#p9c1e4ada69)\" d=\"M 0 0 \n\" style=\"fill:none;stroke:#424242;stroke-linecap:square;stroke-width:2.7;\"/>\n   </g>\n   <g id=\"line2d_25\">\n    <path clip-path=\"url(#p9c1e4ada69)\" d=\"M 0 0 \n\" style=\"fill:none;stroke:#424242;stroke-linecap:square;stroke-width:2.7;\"/>\n   </g>\n   <g id=\"line2d_26\">\n    <path clip-path=\"url(#p9c1e4ada69)\" d=\"M 0 0 \n\" style=\"fill:none;stroke:#424242;stroke-linecap:square;stroke-width:2.7;\"/>\n   </g>\n   <g id=\"line2d_27\">\n    <path clip-path=\"url(#p9c1e4ada69)\" d=\"M 0 0 \n\" style=\"fill:none;stroke:#424242;stroke-linecap:square;stroke-width:2.7;\"/>\n   </g>\n   <g id=\"line2d_28\">\n    <path clip-path=\"url(#p9c1e4ada69)\" d=\"M 0 0 \n\" style=\"fill:none;stroke:#424242;stroke-linecap:square;stroke-width:2.7;\"/>\n   </g>\n   <g id=\"line2d_29\">\n    <path clip-path=\"url(#p9c1e4ada69)\" d=\"M 0 0 \n\" style=\"fill:none;stroke:#424242;stroke-linecap:square;stroke-width:2.7;\"/>\n   </g>\n   <g id=\"line2d_30\">\n    <path clip-path=\"url(#p9c1e4ada69)\" d=\"M 0 0 \n\" style=\"fill:none;stroke:#424242;stroke-linecap:square;stroke-width:2.7;\"/>\n   </g>\n   <g id=\"line2d_31\">\n    <path clip-path=\"url(#p9c1e4ada69)\" d=\"M 0 0 \n\" style=\"fill:none;stroke:#424242;stroke-linecap:square;stroke-width:2.7;\"/>\n   </g>\n   <g id=\"line2d_32\">\n    <path clip-path=\"url(#p9c1e4ada69)\" d=\"M 0 0 \n\" style=\"fill:none;stroke:#424242;stroke-linecap:square;stroke-width:2.7;\"/>\n   </g>\n   <g id=\"line2d_33\">\n    <path clip-path=\"url(#p9c1e4ada69)\" d=\"M 0 0 \n\" style=\"fill:none;stroke:#424242;stroke-linecap:square;stroke-width:2.7;\"/>\n   </g>\n   <g id=\"line2d_34\">\n    <path clip-path=\"url(#p9c1e4ada69)\" d=\"M 0 0 \n\" style=\"fill:none;stroke:#424242;stroke-linecap:square;stroke-width:2.7;\"/>\n   </g>\n   <g id=\"line2d_35\">\n    <path clip-path=\"url(#p9c1e4ada69)\" d=\"M 0 0 \n\" style=\"fill:none;stroke:#424242;stroke-linecap:square;stroke-width:2.7;\"/>\n   </g>\n   <g id=\"line2d_36\">\n    <path clip-path=\"url(#p9c1e4ada69)\" d=\"M 0 0 \n\" style=\"fill:none;stroke:#424242;stroke-linecap:square;stroke-width:2.7;\"/>\n   </g>\n   <g id=\"line2d_37\">\n    <path clip-path=\"url(#p9c1e4ada69)\" d=\"M 0 0 \n\" style=\"fill:none;stroke:#424242;stroke-linecap:square;stroke-width:2.7;\"/>\n   </g>\n   <g id=\"line2d_38\">\n    <path clip-path=\"url(#p9c1e4ada69)\" d=\"M 0 0 \n\" style=\"fill:none;stroke:#424242;stroke-linecap:square;stroke-width:2.7;\"/>\n   </g>\n   <g id=\"line2d_39\">\n    <path clip-path=\"url(#p9c1e4ada69)\" d=\"M 0 0 \n\" style=\"fill:none;stroke:#424242;stroke-linecap:square;stroke-width:2.7;\"/>\n   </g>\n   <g id=\"line2d_40\">\n    <path clip-path=\"url(#p9c1e4ada69)\" d=\"M 0 0 \n\" style=\"fill:none;stroke:#424242;stroke-linecap:square;stroke-width:2.7;\"/>\n   </g>\n   <g id=\"line2d_41\">\n    <path clip-path=\"url(#p9c1e4ada69)\" d=\"M 0 0 \n\" style=\"fill:none;stroke:#424242;stroke-linecap:square;stroke-width:2.7;\"/>\n   </g>\n   <g id=\"line2d_42\">\n    <path clip-path=\"url(#p9c1e4ada69)\" d=\"M 0 0 \n\" style=\"fill:none;stroke:#424242;stroke-linecap:square;stroke-width:2.7;\"/>\n   </g>\n   <g id=\"line2d_43\">\n    <path clip-path=\"url(#p9c1e4ada69)\" d=\"M 0 0 \n\" style=\"fill:none;stroke:#424242;stroke-linecap:square;stroke-width:2.7;\"/>\n   </g>\n   <g id=\"line2d_44\">\n    <path clip-path=\"url(#p9c1e4ada69)\" d=\"M 0 0 \n\" style=\"fill:none;stroke:#424242;stroke-linecap:square;stroke-width:2.7;\"/>\n   </g>\n   <g id=\"patch_29\">\n    <path d=\"M 59.96875 314.6 \nL 59.96875 7.2 \n\" style=\"fill:none;stroke:#000000;stroke-linecap:square;stroke-linejoin:miter;stroke-width:0.8;\"/>\n   </g>\n   <g id=\"patch_30\">\n    <path d=\"M 561.0875 314.6 \nL 561.0875 7.2 \n\" style=\"fill:none;stroke:#000000;stroke-linecap:square;stroke-linejoin:miter;stroke-width:0.8;\"/>\n   </g>\n   <g id=\"patch_31\">\n    <path d=\"M 59.96875 314.6 \nL 561.0875 314.6 \n\" style=\"fill:none;stroke:#000000;stroke-linecap:square;stroke-linejoin:miter;stroke-width:0.8;\"/>\n   </g>\n   <g id=\"patch_32\">\n    <path d=\"M 59.96875 7.2 \nL 561.0875 7.2 \n\" style=\"fill:none;stroke:#000000;stroke-linecap:square;stroke-linejoin:miter;stroke-width:0.8;\"/>\n   </g>\n   <g id=\"legend_1\">\n    <g id=\"patch_33\">\n     <path d=\"M 495.292187 59.234375 \nL 554.0875 59.234375 \nQ 556.0875 59.234375 556.0875 57.234375 \nL 556.0875 14.2 \nQ 556.0875 12.2 554.0875 12.2 \nL 495.292187 12.2 \nQ 493.292187 12.2 493.292187 14.2 \nL 493.292187 57.234375 \nQ 493.292187 59.234375 495.292187 59.234375 \nz\n\" style=\"fill:#ffffff;opacity:0.8;stroke:#cccccc;stroke-linejoin:miter;\"/>\n    </g>\n    <g id=\"text_21\">\n     <!-- source -->\n     <g transform=\"translate(508.088281 23.798437)scale(0.1 -0.1)\">\n      <use xlink:href=\"#DejaVuSans-115\"/>\n      <use x=\"52.099609\" xlink:href=\"#DejaVuSans-111\"/>\n      <use x=\"113.28125\" xlink:href=\"#DejaVuSans-117\"/>\n      <use x=\"176.660156\" xlink:href=\"#DejaVuSans-114\"/>\n      <use x=\"215.523438\" xlink:href=\"#DejaVuSans-99\"/>\n      <use x=\"270.503906\" xlink:href=\"#DejaVuSans-101\"/>\n     </g>\n    </g>\n    <g id=\"patch_34\">\n     <path d=\"M 497.292187 38.476562 \nL 517.292187 38.476562 \nL 517.292187 31.476562 \nL 497.292187 31.476562 \nz\n\" style=\"fill:#3274a1;\"/>\n    </g>\n    <g id=\"text_22\">\n     <!-- shots -->\n     <defs>\n      <path d=\"M 18.3125 70.21875 \nL 18.3125 54.6875 \nL 36.8125 54.6875 \nL 36.8125 47.703125 \nL 18.3125 47.703125 \nL 18.3125 18.015625 \nQ 18.3125 11.328125 20.140625 9.421875 \nQ 21.96875 7.515625 27.59375 7.515625 \nL 36.8125 7.515625 \nL 36.8125 0 \nL 27.59375 0 \nQ 17.1875 0 13.234375 3.875 \nQ 9.28125 7.765625 9.28125 18.015625 \nL 9.28125 47.703125 \nL 2.6875 47.703125 \nL 2.6875 54.6875 \nL 9.28125 54.6875 \nL 9.28125 70.21875 \nz\n\" id=\"DejaVuSans-116\"/>\n     </defs>\n     <g transform=\"translate(525.292187 38.476562)scale(0.1 -0.1)\">\n      <use xlink:href=\"#DejaVuSans-115\"/>\n      <use x=\"52.099609\" xlink:href=\"#DejaVuSans-104\"/>\n      <use x=\"115.478516\" xlink:href=\"#DejaVuSans-111\"/>\n      <use x=\"176.660156\" xlink:href=\"#DejaVuSans-116\"/>\n      <use x=\"215.869141\" xlink:href=\"#DejaVuSans-115\"/>\n     </g>\n    </g>\n    <g id=\"patch_35\">\n     <path d=\"M 497.292187 53.154688 \nL 517.292187 53.154688 \nL 517.292187 46.154688 \nL 497.292187 46.154688 \nz\n\" style=\"fill:#e1812c;\"/>\n    </g>\n    <g id=\"text_23\">\n     <!-- hits -->\n     <g transform=\"translate(525.292187 53.154688)scale(0.1 -0.1)\">\n      <use xlink:href=\"#DejaVuSans-104\"/>\n      <use x=\"63.378906\" xlink:href=\"#DejaVuSans-105\"/>\n      <use x=\"91.162109\" xlink:href=\"#DejaVuSans-116\"/>\n      <use x=\"130.371094\" xlink:href=\"#DejaVuSans-115\"/>\n     </g>\n    </g>\n   </g>\n  </g>\n </g>\n <defs>\n  <clipPath id=\"p9c1e4ada69\">\n   <rect height=\"307.4\" width=\"501.11875\" x=\"59.96875\" y=\"7.2\"/>\n  </clipPath>\n </defs>\n</svg>\n",
      "image/png": "[encoded data removed]"
     },
     "metadata": {
      "needs_background": "light"
     }
    }
   ],
   "source": [
    "fig, ax1 = plt.subplots(figsize=(8, 5))\n",
    "g = sns.barplot(x='weapon', y=\"value_numbers\", hue=\"source\",\n",
    "                data=test_data_melted, ax=ax1)\n",
    "plt.tight_layout()\n",
    "plt.show()"
   ]
  },
  {
   "cell_type": "code",
   "execution_count": 8,
   "metadata": {},
   "outputs": [],
   "source": [
    "bar_chart_shots = alt.Chart(test_data_melted, title='Shots per weapon used').mark_bar().encode(\n",
    "        column = alt.Column('weapon', \n",
    "                            spacing=5, \n",
    "                            sort=['value_numbers'],\n",
    "                            header = alt.Header(labelOrient=\"bottom\", titleOrient='bottom', titleColor='green', titleFontSize=20)), \n",
    "        x=alt.X('source', sort=['value_numbers'], axis=None),\n",
    "        y=alt.Y('value_numbers:Q', title=''),\n",
    "        color=alt.Color('source', scale=alt.Scale(range=['#f63366', '#4c78a8']))\n",
    "    ).configure_axis(labelFontSize=12, titleFontSize=16).configure_title(fontSize=20).configure_view(stroke='transparent')\n",
    "\n",
    "# bar_chart_shots.display()"
   ]
  },
  {
   "cell_type": "code",
   "execution_count": 10,
   "metadata": {},
   "outputs": [
    {
     "output_type": "display_data",
     "data": {
      "text/html": "\n<div id=\"altair-viz-4e90b5d72c3b4495a504f7ab16be3104\"></div>\n<script type=\"text/javascript\">\n  (function(spec, embedOpt){\n    let outputDiv = document.currentScript.previousElementSibling;\n    if (outputDiv.id !== \"altair-viz-4e90b5d72c3b4495a504f7ab16be3104\") {\n      outputDiv = document.getElementById(\"altair-viz-4e90b5d72c3b4495a504f7ab16be3104\");\n    }\n    const paths = {\n      \"vega\": \"https://cdn.jsdelivr.net/npm//vega@5?noext\",\n      \"vega-lib\": \"https://cdn.jsdelivr.net/npm//vega-lib?noext\",\n      \"vega-lite\": \"https://cdn.jsdelivr.net/npm//vega-lite@4.8.1?noext\",\n      \"vega-embed\": \"https://cdn.jsdelivr.net/npm//vega-embed@6?noext\",\n    };\n\n    function loadScript(lib) {\n      return new Promise(function(resolve, reject) {\n        var s = document.createElement('script');\n        s.src = paths[lib];\n        s.async = true;\n        s.onload = () => resolve(paths[lib]);\n        s.onerror = () => reject(`Error loading script: ${paths[lib]}`);\n        document.getElementsByTagName(\"head\")[0].appendChild(s);\n      });\n    }\n\n    function showError(err) {\n      outputDiv.innerHTML = `<div class=\"error\" style=\"color:red;\">${err}</div>`;\n      throw err;\n    }\n\n    function displayChart(vegaEmbed) {\n      vegaEmbed(outputDiv, spec, embedOpt)\n        .catch(err => showError(`Javascript Error: ${err.message}<br>This usually means there's a typo in your chart specification. See the javascript console for the full traceback.`));\n    }\n\n    if(typeof define === \"function\" && define.amd) {\n      requirejs.config({paths});\n      require([\"vega-embed\"], displayChart, err => showError(`Error loading script: ${err.message}`));\n    } else if (typeof vegaEmbed === \"function\") {\n      displayChart(vegaEmbed);\n    } else {\n      loadScript(\"vega\")\n        .then(() => loadScript(\"vega-lite\"))\n        .then(() => loadScript(\"vega-embed\"))\n        .catch(showError)\n        .then(() => displayChart(vegaEmbed));\n    }\n  })({\"config\": {\"view\": {\"continuousWidth\": 400, \"continuousHeight\": 300, \"stroke\": \"transparent\"}, \"axis\": {\"labelFontSize\": 12, \"titleFontSize\": 16}, \"title\": {\"fontSize\": 20}}, \"data\": {\"name\": \"data-ff38e33655c20405e295ef620d79e00d\"}, \"mark\": \"bar\", \"encoding\": {\"color\": {\"type\": \"nominal\", \"field\": \"source\", \"scale\": {\"range\": [\"#31333f\", \"#f63366\", \"#4c78a8\"]}}, \"column\": {\"type\": \"nominal\", \"field\": \"weapon\", \"header\": {\"labelOrient\": \"bottom\", \"titleFontSize\": 20, \"titleOrient\": \"bottom\"}, \"sort\": [\"value_numbers\"], \"spacing\": 5}, \"x\": {\"type\": \"nominal\", \"axis\": null, \"field\": \"source\", \"sort\": [\"value_numbers\"]}, \"y\": {\"type\": \"quantitative\", \"field\": \"value_numbers\", \"title\": \"\"}}, \"title\": \"Shots per weapon\", \"$schema\": \"https://vega.github.io/schema/vega-lite/v4.8.1.json\", \"datasets\": {\"data-ff38e33655c20405e295ef620d79e00d\": [{\"weapon\": \"ak47\", \"source\": \"shots\", \"value_numbers\": 90494}, {\"weapon\": \"ak47\", \"source\": \"hits\", \"value_numbers\": 18889}, {\"weapon\": \"ak47\", \"source\": \"kills\", \"value_numbers\": 5310}]}}, {\"mode\": \"vega-lite\"});\n</script>",
      "text/plain": "alt.Chart(...)"
     },
     "metadata": {}
    }
   ],
   "source": [
    "singular_df = test_data_melted_2[test_data_melted_2['weapon'] == 'ak47']\n",
    "\n",
    "bar_chart_weapon = alt.Chart(singular_df, title='Shots per weapon').mark_bar().encode(\n",
    "        column = alt.Column('weapon', \n",
    "                            spacing=5, \n",
    "                            sort=['value_numbers'],\n",
    "                            header = alt.Header(labelOrient=\"bottom\", titleOrient='bottom', titleFontSize=20)), \n",
    "        x=alt.X('source', sort=['value_numbers'], axis=None),\n",
    "        y=alt.Y('value_numbers:Q', title=''),\n",
    "        color=alt.Color('source', scale=alt.Scale(range=['#31333f', '#f63366', '#4c78a8']))\n",
    "    ).configure_axis(labelFontSize=12, titleFontSize=16).configure_title(fontSize=20).configure_view(stroke='transparent')\n",
    "\n",
    "bar_chart_weapon.display()"
   ]
  },
  {
   "cell_type": "code",
   "execution_count": 11,
   "metadata": {},
   "outputs": [
    {
     "output_type": "execute_result",
     "data": {
      "text/plain": [
       "   weapon source  value_numbers\n",
       "0    ak47  shots          90494\n",
       "11   ak47   hits          18889\n",
       "22   ak47  kills           5310"
      ],
      "text/html": "<div>\n<style scoped>\n    .dataframe tbody tr th:only-of-type {\n        vertical-align: middle;\n    }\n\n    .dataframe tbody tr th {\n        vertical-align: top;\n    }\n\n    .dataframe thead th {\n        text-align: right;\n    }\n</style>\n<table border=\"1\" class=\"dataframe\">\n  <thead>\n    <tr style=\"text-align: right;\">\n      <th></th>\n      <th>weapon</th>\n      <th>source</th>\n      <th>value_numbers</th>\n    </tr>\n  </thead>\n  <tbody>\n    <tr>\n      <th>0</th>\n      <td>ak47</td>\n      <td>shots</td>\n      <td>90494</td>\n    </tr>\n    <tr>\n      <th>11</th>\n      <td>ak47</td>\n      <td>hits</td>\n      <td>18889</td>\n    </tr>\n    <tr>\n      <th>22</th>\n      <td>ak47</td>\n      <td>kills</td>\n      <td>5310</td>\n    </tr>\n  </tbody>\n</table>\n</div>"
     },
     "metadata": {},
     "execution_count": 11
    }
   ],
   "source": [
    "singular_df.head()"
   ]
  },
  {
   "cell_type": "code",
   "execution_count": 12,
   "metadata": {},
   "outputs": [
    {
     "output_type": "display_data",
     "data": {
      "text/html": "\n<div id=\"altair-viz-4f7e0c85020540828fd4a854c26f0333\"></div>\n<script type=\"text/javascript\">\n  (function(spec, embedOpt){\n    let outputDiv = document.currentScript.previousElementSibling;\n    if (outputDiv.id !== \"altair-viz-4f7e0c85020540828fd4a854c26f0333\") {\n      outputDiv = document.getElementById(\"altair-viz-4f7e0c85020540828fd4a854c26f0333\");\n    }\n    const paths = {\n      \"vega\": \"https://cdn.jsdelivr.net/npm//vega@5?noext\",\n      \"vega-lib\": \"https://cdn.jsdelivr.net/npm//vega-lib?noext\",\n      \"vega-lite\": \"https://cdn.jsdelivr.net/npm//vega-lite@4.8.1?noext\",\n      \"vega-embed\": \"https://cdn.jsdelivr.net/npm//vega-embed@6?noext\",\n    };\n\n    function loadScript(lib) {\n      return new Promise(function(resolve, reject) {\n        var s = document.createElement('script');\n        s.src = paths[lib];\n        s.async = true;\n        s.onload = () => resolve(paths[lib]);\n        s.onerror = () => reject(`Error loading script: ${paths[lib]}`);\n        document.getElementsByTagName(\"head\")[0].appendChild(s);\n      });\n    }\n\n    function showError(err) {\n      outputDiv.innerHTML = `<div class=\"error\" style=\"color:red;\">${err}</div>`;\n      throw err;\n    }\n\n    function displayChart(vegaEmbed) {\n      vegaEmbed(outputDiv, spec, embedOpt)\n        .catch(err => showError(`Javascript Error: ${err.message}<br>This usually means there's a typo in your chart specification. See the javascript console for the full traceback.`));\n    }\n\n    if(typeof define === \"function\" && define.amd) {\n      requirejs.config({paths});\n      require([\"vega-embed\"], displayChart, err => showError(`Error loading script: ${err.message}`));\n    } else if (typeof vegaEmbed === \"function\") {\n      displayChart(vegaEmbed);\n    } else {\n      loadScript(\"vega\")\n        .then(() => loadScript(\"vega-lite\"))\n        .then(() => loadScript(\"vega-embed\"))\n        .catch(showError)\n        .then(() => displayChart(vegaEmbed));\n    }\n  })({\"config\": {\"view\": {\"continuousWidth\": 400, \"continuousHeight\": 300}}, \"data\": {\"name\": \"data-ff38e33655c20405e295ef620d79e00d\"}, \"mark\": {\"type\": \"bar\", \"opacity\": 0.7}, \"encoding\": {\"color\": {\"type\": \"nominal\", \"field\": \"source\", \"scale\": {\"range\": [\"#f63366\", \"#4c78a8\"]}}, \"x\": {\"type\": \"nominal\", \"axis\": {\"grid\": false, \"title\": null}, \"field\": \"weapon\", \"sort\": [\"value_numbers\"]}, \"y\": {\"type\": \"quantitative\", \"axis\": {\"grid\": true, \"title\": null}, \"field\": \"value_numbers\", \"stack\": null}}, \"title\": \"Shots vs Hits\", \"$schema\": \"https://vega.github.io/schema/vega-lite/v4.8.1.json\", \"datasets\": {\"data-ff38e33655c20405e295ef620d79e00d\": [{\"weapon\": \"ak47\", \"source\": \"shots\", \"value_numbers\": 90494}, {\"weapon\": \"ak47\", \"source\": \"hits\", \"value_numbers\": 18889}, {\"weapon\": \"ak47\", \"source\": \"kills\", \"value_numbers\": 5310}]}}, {\"mode\": \"vega-lite\"});\n</script>",
      "text/plain": "alt.Chart(...)"
     },
     "metadata": {}
    }
   ],
   "source": [
    "bar_chart_weapon = alt.Chart(singular_df, title='Shots vs Hits').mark_bar(opacity=0.7).encode(\n",
    "        x=alt.X('weapon', sort=['value_numbers'], axis=alt.Axis(grid=False, title=None)),\n",
    "        y=alt.Y('value_numbers', axis=alt.Axis(grid=True, title=None), stack=None),\n",
    "        color=alt.Color('source', scale=alt.Scale(range=['#f63366', '#4c78a8']))\n",
    "    )\n",
    "\n",
    "text = bar_chart_weapon.mark_text(baseline='bottom', align='center').encode(text='value_numbers')\n",
    "\n",
    "tmp_chart = alt.layer(bar_chart_weapon, text).configure_axis(labelFontSize=12, titleFontSize=16).configure_title(fontSize=20).configure_view(stroke='transparent').configure_legend(orient='bottom')\n",
    "\n",
    "bar_chart_weapon.display()"
   ]
  },
  {
   "cell_type": "code",
   "execution_count": 13,
   "metadata": {},
   "outputs": [
    {
     "output_type": "stream",
     "name": "stdout",
     "text": [
      "{'headshot': 7231}\n"
     ]
    }
   ],
   "source": [
    "_, _, headshots = get_ordered_numbers(r, 'headshot')\n",
    "print(headshots)"
   ]
  },
  {
   "cell_type": "code",
   "execution_count": 17,
   "metadata": {},
   "outputs": [
    {
     "output_type": "stream",
     "name": "stdout",
     "text": [
      "{'total_damage_done': 3714396, 'last_match_damage': 5660}\n{'total_rounds_played': 15717}\n236.32983\n"
     ]
    }
   ],
   "source": [
    "_, _, damage = get_ordered_numbers(r, 'damage', truncate_name=False)\n",
    "print(damage)\n",
    "\n",
    "_, _, rounds = get_ordered_numbers(r, 'total_rounds_played', truncate_name=False)\n",
    "print(rounds)\n",
    "\n",
    "adr = damage['total_damage_done'] / rounds['total_rounds_played']\n",
    "\n",
    "print(f\"{adr:.05f}\")"
   ]
  },
  {
   "cell_type": "code",
   "execution_count": 18,
   "metadata": {},
   "outputs": [
    {
     "output_type": "error",
     "ename": "ValueError",
     "evalue": "not enough values to unpack (expected 2, got 0)",
     "traceback": [
      "\u001b[0;31m---------------------------------------------------------------------------\u001b[0m",
      "\u001b[0;31mValueError\u001b[0m                                Traceback (most recent call last)",
      "\u001b[0;32m<ipython-input-18-6b24bf8603a8>\u001b[0m in \u001b[0;36m<module>\u001b[0;34m\u001b[0m\n\u001b[0;32m----> 1\u001b[0;31m \u001b[0m_\u001b[0m\u001b[0;34m,\u001b[0m \u001b[0m_\u001b[0m\u001b[0;34m,\u001b[0m \u001b[0mstreak\u001b[0m \u001b[0;34m=\u001b[0m \u001b[0mget_ordered_numbers\u001b[0m\u001b[0;34m(\u001b[0m\u001b[0mr\u001b[0m\u001b[0;34m,\u001b[0m \u001b[0;34m'streak'\u001b[0m\u001b[0;34m,\u001b[0m \u001b[0mignore_terms\u001b[0m\u001b[0;34m)\u001b[0m\u001b[0;34m\u001b[0m\u001b[0;34m\u001b[0m\u001b[0m\n\u001b[0m\u001b[1;32m      2\u001b[0m \u001b[0;34m\u001b[0m\u001b[0m\n\u001b[1;32m      3\u001b[0m \u001b[0mprint\u001b[0m\u001b[0;34m(\u001b[0m\u001b[0mstreak\u001b[0m\u001b[0;34m)\u001b[0m\u001b[0;34m\u001b[0m\u001b[0;34m\u001b[0m\u001b[0m\n",
      "\u001b[0;32m<ipython-input-4-da063ee5c26e>\u001b[0m in \u001b[0;36mget_ordered_numbers\u001b[0;34m(r, search_term, ignore_terms, high_to_low, truncate_name)\u001b[0m\n\u001b[1;32m     19\u001b[0m     \u001b[0mitems_ordered\u001b[0m \u001b[0;34m=\u001b[0m \u001b[0;34m{\u001b[0m\u001b[0mk\u001b[0m\u001b[0;34m:\u001b[0m \u001b[0mv\u001b[0m \u001b[0;32mfor\u001b[0m \u001b[0mk\u001b[0m\u001b[0;34m,\u001b[0m \u001b[0mv\u001b[0m \u001b[0;32min\u001b[0m \u001b[0msorted\u001b[0m\u001b[0;34m(\u001b[0m\u001b[0mitem_dict\u001b[0m\u001b[0;34m.\u001b[0m\u001b[0mitems\u001b[0m\u001b[0;34m(\u001b[0m\u001b[0;34m)\u001b[0m\u001b[0;34m,\u001b[0m \u001b[0mkey\u001b[0m\u001b[0;34m=\u001b[0m\u001b[0;32mlambda\u001b[0m \u001b[0mitem\u001b[0m\u001b[0;34m:\u001b[0m \u001b[0mitem\u001b[0m\u001b[0;34m[\u001b[0m\u001b[0;36m1\u001b[0m\u001b[0;34m]\u001b[0m\u001b[0;34m,\u001b[0m \u001b[0mreverse\u001b[0m\u001b[0;34m=\u001b[0m\u001b[0mhigh_to_low\u001b[0m\u001b[0;34m)\u001b[0m\u001b[0;34m}\u001b[0m\u001b[0;34m\u001b[0m\u001b[0;34m\u001b[0m\u001b[0m\n\u001b[1;32m     20\u001b[0m     \u001b[0mitem_list\u001b[0m \u001b[0;34m=\u001b[0m \u001b[0mitems_ordered\u001b[0m\u001b[0;34m.\u001b[0m\u001b[0mitems\u001b[0m\u001b[0;34m(\u001b[0m\u001b[0;34m)\u001b[0m\u001b[0;34m\u001b[0m\u001b[0;34m\u001b[0m\u001b[0m\n\u001b[0;32m---> 21\u001b[0;31m     \u001b[0mname\u001b[0m\u001b[0;34m,\u001b[0m \u001b[0mnumber\u001b[0m \u001b[0;34m=\u001b[0m \u001b[0mzip\u001b[0m\u001b[0;34m(\u001b[0m\u001b[0;34m*\u001b[0m\u001b[0mitem_list\u001b[0m\u001b[0;34m)\u001b[0m\u001b[0;34m\u001b[0m\u001b[0;34m\u001b[0m\u001b[0m\n\u001b[0m\u001b[1;32m     22\u001b[0m \u001b[0;34m\u001b[0m\u001b[0m\n\u001b[1;32m     23\u001b[0m     \u001b[0;32mreturn\u001b[0m \u001b[0mname\u001b[0m\u001b[0;34m,\u001b[0m \u001b[0mnumber\u001b[0m\u001b[0;34m,\u001b[0m \u001b[0mitems_ordered\u001b[0m\u001b[0;34m\u001b[0m\u001b[0;34m\u001b[0m\u001b[0m\n",
      "\u001b[0;31mValueError\u001b[0m: not enough values to unpack (expected 2, got 0)"
     ]
    }
   ],
   "source": [
    "_, _, streak = get_ordered_numbers(r, 'streak', ignore_terms)\n",
    "\n",
    "print(streak)"
   ]
  },
  {
   "cell_type": "code",
   "execution_count": 25,
   "metadata": {},
   "outputs": [
    {
     "output_type": "stream",
     "name": "stdout",
     "text": [
      "1\n5660\n"
     ]
    }
   ],
   "source": [
    "_, _, rounds = get_ordered_numbers(r, 'last_match_rounds', truncate_name=False)\n",
    "print(rounds['last_match_rounds'])\n",
    "print(damage['last_match_damage'])"
   ]
  },
  {
   "cell_type": "code",
   "execution_count": 34,
   "metadata": {},
   "outputs": [
    {
     "output_type": "execute_result",
     "data": {
      "text/plain": [
       "1.0548023991455098"
      ]
     },
     "metadata": {},
     "execution_count": 34
    }
   ],
   "source": [
    "_, _, kills_ratio = get_ordered_numbers(r, 'kills', truncate_name=False)\n",
    "_, _, deaths_ratio = get_ordered_numbers(r, 'deaths', truncate_name=False)\n",
    "\n",
    "KD_ratio = kills_ratio['total_kills'] / deaths_ratio['total_deaths']\n",
    "\n",
    "KD_ratio"
   ]
  },
  {
   "cell_type": "code",
   "execution_count": 14,
   "metadata": {},
   "outputs": [
    {
     "output_type": "execute_result",
     "data": {
      "text/plain": [
       "3.4615384615384617"
      ]
     },
     "metadata": {},
     "execution_count": 14
    }
   ],
   "source": [
    "_, lm_k_val, lm_k = get_ordered_numbers(r, 'last_match_kills', truncate_name=False)\n",
    "_, lm_d_val, lm_d = get_ordered_numbers(r, 'last_match_deaths', truncate_name=False)\n",
    "\n",
    "lm_k_val[0] / lm_d_val[0]"
   ]
  },
  {
   "cell_type": "code",
   "execution_count": null,
   "metadata": {},
   "outputs": [],
   "source": []
  }
 ]
}